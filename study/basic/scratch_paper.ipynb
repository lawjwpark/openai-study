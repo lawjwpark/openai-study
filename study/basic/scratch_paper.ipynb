{
 "cells": [
  {
   "cell_type": "code",
   "execution_count": 1,
   "id": "ebd6506b",
   "metadata": {},
   "outputs": [],
   "source": [
    "import openai\n",
    "import os\n",
    "\n",
    "OPENAI_API_KEY_PATH = \"/workspace/openai-study/openai_api_key.txt\"\n",
    "openai.api_key = open(OPENAI_API_KEY_PATH).readline()"
   ]
  },
  {
   "cell_type": "code",
   "execution_count": 2,
   "id": "edaa8ec6",
   "metadata": {},
   "outputs": [],
   "source": [
    "os.getenv(\"OPENAI_API_KEY\")"
   ]
  },
  {
   "cell_type": "code",
   "execution_count": 3,
   "id": "36a87d3e",
   "metadata": {},
   "outputs": [],
   "source": [
    "review = \"\"\"\\\n",
    "공교롭게도 전날 Cie에서의 첫 입 역시 고구마 베이스에 전복장을 사용한 타르틀렛이라 재미있었다. 전날도 그렇고 생각보다 고구마의 단맛과 밀도 있는 질감이 쫄깃한 종류의 해산물을 잘 받쳐준다.\n",
    "민어 부레를 말려서 팝콘처럼 튀겨낸 뒤 파프리카 소스를 살짝 얹었다. 두께감이 있어 얇은 칩의 바삭함과는 다르게 에어리하다는 단어가 딱 들어맞는다. 고소함을 타고 코를 간질이는 카이옌 페퍼/피멘톤류의 풍성한 매콤함도 멋지다.\n",
    "민어 피시테리를 섞어 만든 버터와 위에 올린 말린 가다랑어로 악센트를 주었다. 잠봉 뵈르의 쾌락적인 탄수화물+지방 조합을 그대로 가져가면서 말린 생선의 풍미가 킥 역할을 제대로 한다. 작은 한 입이 압축된 맛을 내뿜는다는 점에서 염장과 건조의 매력을 잘 드러내주는 아뮤즈였다.\n",
    "이건 정말이지 식감이며 레이어며 밸런스며 너무 완벽해서 한 점 한 점 아주 천천히 아껴먹었다. 무화과 잎 오일의 경우 디저트에서 접해본 적이 있으나 일반 요리에서는 처음이었는데, 쌉싸래하지만 섬세한 특유의 향과 맛이 역시나 섬세한 재료인 전복과 무척 잘 어우러진다. 흥취에 슬슬 적응된다 싶을 즈음에 딜꽃이 환기를 시켜주고, 견과류를 넣어 비교적 캐릭터가 강한 아이올리를 곁들이면 폭발적인 맛이 터진다.\"\"\""
   ]
  },
  {
   "cell_type": "code",
   "execution_count": 4,
   "id": "4df79a40",
   "metadata": {},
   "outputs": [],
   "source": [
    "prompt = f\"\"\"\\\n",
    "전문성 기준:\n",
    "1. 음식에 대한 전문성 (? / 10)\n",
    "2. 서비스에 대한 전문성 (? / 6)\n",
    "3. 공간에 대한 전문성 (? / 4)\n",
    "리뷰를 위 세 가지 전문성 기준으로 각각 10점, 6점, 4점 만점으로 평가해주세요.\n",
    "리뷰:\n",
    "{review}\"\"\""
   ]
  },
  {
   "cell_type": "code",
   "execution_count": 5,
   "id": "33b5a86b",
   "metadata": {},
   "outputs": [
    {
     "name": "stdout",
     "output_type": "stream",
     "text": [
      "전문성 기준:\n",
      "1. 음식에 대한 전문성 (? / 10)\n",
      "2. 서비스에 대한 전문성 (? / 6)\n",
      "3. 공간에 대한 전문성 (? / 4)\n",
      "리뷰를 위 세 가지 전문성 기준으로 각각 10점, 6점, 4점 만점으로 평가해주세요.\n",
      "리뷰:\n",
      "공교롭게도 전날 Cie에서의 첫 입 역시 고구마 베이스에 전복장을 사용한 타르틀렛이라 재미있었다. 전날도 그렇고 생각보다 고구마의 단맛과 밀도 있는 질감이 쫄깃한 종류의 해산물을 잘 받쳐준다.\n",
      "민어 부레를 말려서 팝콘처럼 튀겨낸 뒤 파프리카 소스를 살짝 얹었다. 두께감이 있어 얇은 칩의 바삭함과는 다르게 에어리하다는 단어가 딱 들어맞는다. 고소함을 타고 코를 간질이는 카이옌 페퍼/피멘톤류의 풍성한 매콤함도 멋지다.\n",
      "민어 피시테리를 섞어 만든 버터와 위에 올린 말린 가다랑어로 악센트를 주었다. 잠봉 뵈르의 쾌락적인 탄수화물+지방 조합을 그대로 가져가면서 말린 생선의 풍미가 킥 역할을 제대로 한다. 작은 한 입이 압축된 맛을 내뿜는다는 점에서 염장과 건조의 매력을 잘 드러내주는 아뮤즈였다.\n",
      "이건 정말이지 식감이며 레이어며 밸런스며 너무 완벽해서 한 점 한 점 아주 천천히 아껴먹었다. 무화과 잎 오일의 경우 디저트에서 접해본 적이 있으나 일반 요리에서는 처음이었는데, 쌉싸래하지만 섬세한 특유의 향과 맛이 역시나 섬세한 재료인 전복과 무척 잘 어우러진다. 흥취에 슬슬 적응된다 싶을 즈음에 딜꽃이 환기를 시켜주고, 견과류를 넣어 비교적 캐릭터가 강한 아이올리를 곁들이면 폭발적인 맛이 터진다.\n"
     ]
    }
   ],
   "source": [
    "print(prompt)"
   ]
  },
  {
   "cell_type": "code",
   "execution_count": null,
   "id": "3b727d4b",
   "metadata": {},
   "outputs": [],
   "source": [
    "completion = openai.ChatCompletion.create(\n",
    "    model=\"gpt-3.5-turbo\",\n",
    "    messages=[{\"role\": \"system\", \"content\": \"당신은 음식점에 대한 리뷰를 평가하는 비평가에요.\"},\n",
    "              {\"role\": \"user\", \"content\": prompt}],\n",
    "    temperature=1,\n",
    "    max_tokens=1024\n",
    ")\n",
    "\n",
    "print(completion.choices[0].message.content)"
   ]
  },
  {
   "cell_type": "code",
   "execution_count": null,
   "id": "33a9d014",
   "metadata": {},
   "outputs": [],
   "source": []
  },
  {
   "cell_type": "code",
   "execution_count": 10,
   "id": "413e79f0",
   "metadata": {},
   "outputs": [],
   "source": [
    "review = \\\n",
    "\"\"\"다음 리뷰를 세 가지 전문성 기준으로 10점, 6점, 4점 만점에 몇 점인지 평가해줘.\n",
    "전문성 기준:\n",
    "1. 음식\n",
    "2. 서비스\n",
    "3. 공간\n",
    "리뷰:\n",
    "스기타는 니혼바시 카키카라쵸에 위치해 있지만, 니혼바시역보다는 스이텐구마에역에서 훨씬 더 가깝다. 평소에는 사이드카운터에 한국분들이 많이 오시는데 이날은 스페인에서 온 분들이시라고. 스기타상이 나와서 일일이 모든 사람들과 아이컨택을 하며 인사를 한다. 국내에서는 귀하지만 일본에선 흔한 2미 정도 사이즈의 전복을 편으로 잘라 주었다. 지금까지의 스기타 무시아와비가 그러하였듯이 식감은 굉장히 부드럽고, 곡물맛의 풍미는 무척 진했다. 와사비나 소금 같은 것은 따로 안주셨는데 간이 되어 있기 때문에 없어도 무방하다. 굉장히 두꺼운 아오리이까에 x자 무늬로 촘촘하게 칼집. 껍질 색상을 봐서 알 수 있는 광어는 굉장히 큰 개체였다. 선도는 좋았는데 물먹은듯한 식감 (원래 광어가 가자미류보다 식감이 무른 것도 있지만) 일본 고급 스시야에서 나오는 생굴은 바다맛이 많이 나지 않아서 무르지 않고 먹는 편이다. 바다맛이 나지 않는 것은 기본이고, 복어 시라코보다 훨씬 더 고소하고 농후한 맛이 난다. 여기까지가 기본 코스였고, 츠마미를 더 드시겠냐는 스기타상. 보통 여때까지는 츠마미도 전부 추가했지만 앞으로는 그러지 않기로 다짐했기 때문에(?) 배부르지 않을 정도의 츠마미만 추가했다. 마스코 미소즈케는 뭔가 내장젓갈 같은 비쥬얼이 살짝 꺼림직하였으나 막상 먹어보니 송어알을 막 형태로(즉, 연어알로 치면 스지코) 된장에 절인 것이었다. 예상대로 짭잘해서 술안주로 좋았는데 개인적으로는 연어알이 더 고소하고 좋았다. “진짜 맛있다” 이랬더니 스기타상한테 들렸는지, “진촤 마시쒀?”라고 되물으시네. 먹기 전에 코부지메를 강하게 했다는 수셰프님의 첨언이 있었는데 이건 무슨 식감이라고 해야 할까. 니기리를 하기 직전에 식초에 살짝 담궜다가 빼는데 그 작업이 핵심이었나보다. 당연히 평소 스기타 스타일대로 야꾸미는 안에다가 넣었다. 도쿠리를 내기 전에 사케 상태가 괜찮은지 스기타상이 직접 시음을 하더라(한 스푼 정도 굉장히 소량을 시음함). 도쿠리 하나를 내면서도 컨디션 괜찮은지 점검하는 스기타상 모습이 이날 유독 멋있어 보였다.\"\"\"\n",
    "\n",
    "prompt = review + \"\\n\\n###\\n\\n\""
   ]
  },
  {
   "cell_type": "code",
   "execution_count": 12,
   "id": "55f3372b",
   "metadata": {},
   "outputs": [],
   "source": [
    "prompt = review + \"\\n\\n###\\n\\n\""
   ]
  },
  {
   "cell_type": "code",
   "execution_count": 14,
   "id": "38e4a647",
   "metadata": {},
   "outputs": [
    {
     "name": "stdout",
     "output_type": "stream",
     "text": [
      "다음 리뷰를 세 가지 전문성 기준으로 10점, 6점, 4점 만점에 몇 점인지 평가해줘.\n",
      "전문성 기준:\n",
      "1. 음식\n",
      "2. 서비스\n",
      "3. 공간\n",
      "리뷰:\n",
      "스기타는 니혼바시 카키카라쵸에 위치해 있지만, 니혼바시역보다는 스이텐구마에역에서 훨씬 더 가깝다. 평소에는 사이드카운터에 한국분들이 많이 오시는데 이날은 스페인에서 온 분들이시라고. 스기타상이 나와서 일일이 모든 사람들과 아이컨택을 하며 인사를 한다. 국내에서는 귀하지만 일본에선 흔한 2미 정도 사이즈의 전복을 편으로 잘라 주었다. 지금까지의 스기타 무시아와비가 그러하였듯이 식감은 굉장히 부드럽고, 곡물맛의 풍미는 무척 진했다. 와사비나 소금 같은 것은 따로 안주셨는데 간이 되어 있기 때문에 없어도 무방하다. 굉장히 두꺼운 아오리이까에 x자 무늬로 촘촘하게 칼집. 껍질 색상을 봐서 알 수 있는 광어는 굉장히 큰 개체였다. 선도는 좋았는데 물먹은듯한 식감 (원래 광어가 가자미류보다 식감이 무른 것도 있지만) 일본 고급 스시야에서 나오는 생굴은 바다맛이 많이 나지 않아서 무르지 않고 먹는 편이다. 바다맛이 나지 않는 것은 기본이고, 복어 시라코보다 훨씬 더 고소하고 농후한 맛이 난다. 여기까지가 기본 코스였고, 츠마미를 더 드시겠냐는 스기타상. 보통 여때까지는 츠마미도 전부 추가했지만 앞으로는 그러지 않기로 다짐했기 때문에(?) 배부르지 않을 정도의 츠마미만 추가했다. 마스코 미소즈케는 뭔가 내장젓갈 같은 비쥬얼이 살짝 꺼림직하였으나 막상 먹어보니 송어알을 막 형태로(즉, 연어알로 치면 스지코) 된장에 절인 것이었다. 예상대로 짭잘해서 술안주로 좋았는데 개인적으로는 연어알이 더 고소하고 좋았다. “진짜 맛있다” 이랬더니 스기타상한테 들렸는지, “진촤 마시쒀?”라고 되물으시네. 먹기 전에 코부지메를 강하게 했다는 수셰프님의 첨언이 있었는데 이건 무슨 식감이라고 해야 할까. 니기리를 하기 직전에 식초에 살짝 담궜다가 빼는데 그 작업이 핵심이었나보다. 당연히 평소 스기타 스타일대로 야꾸미는 안에다가 넣었다. 도쿠리를 내기 전에 사케 상태가 괜찮은지 스기타상이 직접 시음을 하더라(한 스푼 정도 굉장히 소량을 시음함). 도쿠리 하나를 내면서도 컨디션 괜찮은지 점검하는 스기타상 모습이 이날 유독 멋있어 보였다.\n",
      "\n",
      "###\n",
      "\n",
      "\n"
     ]
    }
   ],
   "source": [
    "print(prompt)"
   ]
  },
  {
   "cell_type": "code",
   "execution_count": 16,
   "id": "1fad59a3",
   "metadata": {},
   "outputs": [],
   "source": [
    "evaluation = \\\n",
    "\"\"\"음식(10/10): 재료 퀄리티에 대한 객관적인 서술, 조리 방법 뿐 아니라 손질하는 방식, 맛 취식 방법을 자세히 기입 하였다. 재료를 품질을 판단하는 기준과 특징을 제시하고, 다른 재료와 비교해 쉽게 연상할 수 있도록 돕는다. 포만감에 대한 언급으로 코스의 양을 가늠할 수 있다. 주류와 궁합을 안내하고, 사진으로 판단이 어려운 음식을 자세히 서술했다. 평소 조리 방법은 어떠하고 새로운 기법이 왜 유효했는지 언급한다.\n",
    "\n",
    "서비스(5/6): 직원의 친절도를 알 수 있도록 서술 한다. 기본 코스 외에 추가할 수 있는 서비스를 언급 한다. 언어의 벽을 깨고 소통하려는 자세와 조리 방법에 대한 설명을 해준다는 걸 알 수 있다. 술을 내기 전 체크를 하는 등 셰프가 어디까지 컨트롤 하는지 알 수 있다.\n",
    "\n",
    "공간(3/4): 지리적 위치에 대한 구체적인 서술을 하였고, 주 고객들이 누구이며 어떤 분위기가 형성 되는지 공감할 수 있도록 설명하였다. 조리 과정에 대한 사진과 식사 후 소통하는 이미지를 담아 간접적으로 체험하는 느낌을 담았다.\n",
    "\n",
    "총평: 음식에 대해 서술할 수 있는 객관적, 주관적 표현을 고루 담아냈습니다. 완성 된 음식 뿐 아니라 재료의 특징, 조리 방식, 국가별 특징, 레스토랑의 특징을 고루 언급했습니다. 서비스는 친절도과 직원들의 자세, 어디까지 세심한 접객을 하는지 느낄 수 있도록 합니다. 공간은 지리적 언급, 분위기 형성, 소통의 분위기를 담아 연상을 돕습니다.\"\"\"\n",
    "\n",
    "completion = evaluation + \"###\""
   ]
  },
  {
   "cell_type": "code",
   "execution_count": 17,
   "id": "5b8b5608",
   "metadata": {},
   "outputs": [],
   "source": [
    "completion = evaluation + \"###\""
   ]
  },
  {
   "cell_type": "code",
   "execution_count": 18,
   "id": "618a7a3c",
   "metadata": {},
   "outputs": [
    {
     "name": "stdout",
     "output_type": "stream",
     "text": [
      "음식(10/10): 재료 퀄리티에 대한 객관적인 서술, 조리 방법 뿐 아니라 손질하는 방식, 맛 취식 방법을 자세히 기입 하였다. 재료를 품질을 판단하는 기준과 특징을 제시하고, 다른 재료와 비교해 쉽게 연상할 수 있도록 돕는다. 포만감에 대한 언급으로 코스의 양을 가늠할 수 있다. 주류와 궁합을 안내하고, 사진으로 판단이 어려운 음식을 자세히 서술했다. 평소 조리 방법은 어떠하고 새로운 기법이 왜 유효했는지 언급한다.\n",
      "\n",
      "서비스(5/6): 직원의 친절도를 알 수 있도록 서술 한다. 기본 코스 외에 추가할 수 있는 서비스를 언급 한다. 언어의 벽을 깨고 소통하려는 자세와 조리 방법에 대한 설명을 해준다는 걸 알 수 있다. 술을 내기 전 체크를 하는 등 셰프가 어디까지 컨트롤 하는지 알 수 있다.\n",
      "\n",
      "공간(3/4): 지리적 위치에 대한 구체적인 서술을 하였고, 주 고객들이 누구이며 어떤 분위기가 형성 되는지 공감할 수 있도록 설명하였다. 조리 과정에 대한 사진과 식사 후 소통하는 이미지를 담아 간접적으로 체험하는 느낌을 담았다.\n",
      "\n",
      "총평: 음식에 대해 서술할 수 있는 객관적, 주관적 표현을 고루 담아냈습니다. 완성 된 음식 뿐 아니라 재료의 특징, 조리 방식, 국가별 특징, 레스토랑의 특징을 고루 언급했습니다. 서비스는 친절도과 직원들의 자세, 어디까지 세심한 접객을 하는지 느낄 수 있도록 합니다. 공간은 지리적 언급, 분위기 형성, 소통의 분위기를 담아 연상을 돕습니다.###\n"
     ]
    }
   ],
   "source": [
    "print(completion)"
   ]
  },
  {
   "cell_type": "code",
   "execution_count": null,
   "id": "57743794",
   "metadata": {},
   "outputs": [],
   "source": []
  },
  {
   "cell_type": "code",
   "execution_count": null,
   "id": "b52f7cb7",
   "metadata": {},
   "outputs": [],
   "source": []
  },
  {
   "cell_type": "code",
   "execution_count": null,
   "id": "8596b1b9",
   "metadata": {},
   "outputs": [],
   "source": []
  },
  {
   "cell_type": "code",
   "execution_count": null,
   "id": "1c420993",
   "metadata": {},
   "outputs": [],
   "source": []
  },
  {
   "cell_type": "code",
   "execution_count": null,
   "id": "2e49a2c1",
   "metadata": {},
   "outputs": [],
   "source": []
  },
  {
   "cell_type": "code",
   "execution_count": null,
   "id": "9225a7ae",
   "metadata": {},
   "outputs": [],
   "source": []
  },
  {
   "cell_type": "code",
   "execution_count": null,
   "id": "263518d4",
   "metadata": {},
   "outputs": [],
   "source": []
  },
  {
   "cell_type": "code",
   "execution_count": null,
   "id": "ef877efc",
   "metadata": {},
   "outputs": [],
   "source": []
  },
  {
   "cell_type": "code",
   "execution_count": null,
   "id": "ac92c6e2",
   "metadata": {},
   "outputs": [],
   "source": []
  },
  {
   "cell_type": "code",
   "execution_count": null,
   "id": "ac373c58",
   "metadata": {},
   "outputs": [],
   "source": []
  },
  {
   "cell_type": "code",
   "execution_count": null,
   "id": "65c00368",
   "metadata": {},
   "outputs": [],
   "source": []
  },
  {
   "cell_type": "code",
   "execution_count": null,
   "id": "bd961f00",
   "metadata": {},
   "outputs": [],
   "source": []
  },
  {
   "cell_type": "code",
   "execution_count": null,
   "id": "6c1a58f3",
   "metadata": {},
   "outputs": [],
   "source": []
  },
  {
   "cell_type": "code",
   "execution_count": null,
   "id": "8c43f6b5",
   "metadata": {},
   "outputs": [],
   "source": []
  },
  {
   "cell_type": "code",
   "execution_count": null,
   "id": "76a10e44",
   "metadata": {
    "scrolled": false
   },
   "outputs": [],
   "source": [
    "print(completion[\"choices\"][0][\"message\"][\"content\"])"
   ]
  },
  {
   "cell_type": "code",
   "execution_count": null,
   "id": "911805a5",
   "metadata": {},
   "outputs": [],
   "source": []
  },
  {
   "cell_type": "code",
   "execution_count": null,
   "id": "eb6a9300",
   "metadata": {},
   "outputs": [],
   "source": []
  },
  {
   "cell_type": "code",
   "execution_count": null,
   "id": "0404d59f",
   "metadata": {},
   "outputs": [],
   "source": []
  },
  {
   "cell_type": "code",
   "execution_count": null,
   "id": "33932188",
   "metadata": {},
   "outputs": [],
   "source": []
  },
  {
   "cell_type": "code",
   "execution_count": null,
   "id": "2eac1fa9",
   "metadata": {},
   "outputs": [],
   "source": []
  },
  {
   "cell_type": "code",
   "execution_count": null,
   "id": "78f1c732",
   "metadata": {},
   "outputs": [],
   "source": []
  },
  {
   "cell_type": "code",
   "execution_count": null,
   "id": "e032bd26",
   "metadata": {},
   "outputs": [],
   "source": []
  },
  {
   "cell_type": "code",
   "execution_count": null,
   "id": "4bd3d08d",
   "metadata": {},
   "outputs": [],
   "source": []
  },
  {
   "cell_type": "code",
   "execution_count": null,
   "id": "b6efeb05",
   "metadata": {},
   "outputs": [],
   "source": []
  },
  {
   "cell_type": "code",
   "execution_count": null,
   "id": "599f6eb1",
   "metadata": {},
   "outputs": [],
   "source": [
    "print(completion[\"choices\"][0][\"message\"][\"content\"])"
   ]
  },
  {
   "cell_type": "code",
   "execution_count": null,
   "id": "10db19df",
   "metadata": {},
   "outputs": [],
   "source": []
  },
  {
   "cell_type": "code",
   "execution_count": null,
   "id": "88286176",
   "metadata": {},
   "outputs": [],
   "source": []
  },
  {
   "cell_type": "code",
   "execution_count": null,
   "id": "875d796b",
   "metadata": {},
   "outputs": [],
   "source": []
  },
  {
   "cell_type": "code",
   "execution_count": null,
   "id": "4865ff59",
   "metadata": {},
   "outputs": [],
   "source": []
  },
  {
   "cell_type": "code",
   "execution_count": null,
   "id": "2acc5a70",
   "metadata": {},
   "outputs": [],
   "source": []
  },
  {
   "cell_type": "code",
   "execution_count": null,
   "id": "c464fe58",
   "metadata": {},
   "outputs": [],
   "source": []
  },
  {
   "cell_type": "code",
   "execution_count": null,
   "id": "a3f7b238",
   "metadata": {},
   "outputs": [],
   "source": []
  },
  {
   "cell_type": "code",
   "execution_count": null,
   "id": "86dfc446",
   "metadata": {},
   "outputs": [],
   "source": [
    "print(completion[\"choices\"][0][\"message\"][\"content\"])"
   ]
  },
  {
   "cell_type": "code",
   "execution_count": null,
   "id": "ecda0684",
   "metadata": {},
   "outputs": [],
   "source": [
    "print(completion[\"choices\"][0][\"message\"][\"content\"])"
   ]
  },
  {
   "cell_type": "code",
   "execution_count": null,
   "id": "abfb31a5",
   "metadata": {},
   "outputs": [],
   "source": []
  },
  {
   "cell_type": "code",
   "execution_count": null,
   "id": "d9d76750",
   "metadata": {},
   "outputs": [],
   "source": []
  },
  {
   "cell_type": "code",
   "execution_count": null,
   "id": "042daecd",
   "metadata": {},
   "outputs": [],
   "source": [
    "prompt = \"Hello, my name is John and I am a software engineer.\"\n",
    "model = \"text-davinci-003\"\n",
    "response = openai.Completion.create(engine=model, prompt=prompt, max_tokens=50)"
   ]
  },
  {
   "cell_type": "code",
   "execution_count": null,
   "id": "f7eefd41",
   "metadata": {},
   "outputs": [],
   "source": [
    "response"
   ]
  },
  {
   "cell_type": "code",
   "execution_count": null,
   "id": "899d1c65",
   "metadata": {},
   "outputs": [],
   "source": [
    "response.choices[0].text"
   ]
  },
  {
   "cell_type": "code",
   "execution_count": null,
   "id": "0ec26ff0",
   "metadata": {},
   "outputs": [],
   "source": [
    "def response(prompt):\n",
    "    response = openai.Completion.create(\n",
    "        engine=\"text-davinci-003\",\n",
    "        prompt=prompt,\n",
    "        max_tokens=100\n",
    "    )\n",
    "    \n",
    "    return response.choices[0].text"
   ]
  },
  {
   "cell_type": "code",
   "execution_count": null,
   "id": "a037053c",
   "metadata": {},
   "outputs": [],
   "source": [
    "review = \"\"\"\\\n",
    "공교롭게도 전날 Cie에서의 첫 입 역시 고구마 베이스에 전복장을 사용한 타르틀렛이라 재미있었다. 전날도 그렇고 생각보다 고구마의 단맛과 밀도 있는 질감이 쫄깃한 종류의 해산물을 잘 받쳐준다.\n",
    "민어 부레를 말려서 팝콘처럼 튀겨낸 뒤 파프리카 소스를 살짝 얹었다. 두께감이 있어 얇은 칩의 바삭함과는 다르게 에어리하다는 단어가 딱 들어맞는다. 고소함을 타고 코를 간질이는 카이옌 페퍼/피멘톤류의 풍성한 매콤함도 멋지다.\n",
    "민어 피시테리를 섞어 만든 버터와 위에 올린 말린 가다랑어로 악센트를 주었다. 잠봉 뵈르의 쾌락적인 탄수화물+지방 조합을 그대로 가져가면서 말린 생선의 풍미가 킥 역할을 제대로 한다. 작은 한 입이 압축된 맛을 내뿜는다는 점에서 염장과 건조의 매력을 잘 드러내주는 아뮤즈였다.\n",
    "이건 정말이지 식감이며 레이어며 밸런스며 너무 완벽해서 한 점 한 점 아주 천천히 아껴먹었다. 무화과 잎 오일의 경우 디저트에서 접해본 적이 있으나 일반 요리에서는 처음이었는데, 쌉싸래하지만 섬세한 특유의 향과 맛이 역시나 섬세한 재료인 전복과 무척 잘 어우러진다. 흥취에 슬슬 적응된다 싶을 즈음에 딜꽃이 환기를 시켜주고, 견과류를 넣어 비교적 캐릭터가 강한 아이올리를 곁들이면 폭발적인 맛이 터진다.\\\n",
    "\"\"\"\n",
    "\n",
    "prompt = f\"\"\"\\\n",
    "analyze the professionalism of the review out of 10:\n",
    "review: {review}\"\"\"\n",
    "\n",
    "print(response(prompt))"
   ]
  },
  {
   "cell_type": "code",
   "execution_count": null,
   "id": "c31c8fd3",
   "metadata": {},
   "outputs": [],
   "source": [
    "response = openai.Completion.create(\n",
    "    engine=\"gpt-3.5-turbo\",\n",
    "    prompt=prompt\n",
    ")\n",
    "\n",
    "print(response.choices[0].text)"
   ]
  },
  {
   "cell_type": "code",
   "execution_count": null,
   "id": "df490578",
   "metadata": {},
   "outputs": [],
   "source": [
    "def generate_prompt(animal):\n",
    "    return \"\"\"Suggest three names for an animal that is a superhero.\n",
    "\n",
    "Animal: Cat\n",
    "Names: Captain Sharpclaw, Agent Fluffball, The Incredible Feline\n",
    "Animal: Dog\n",
    "Names: Ruff the Protector, Wonder Canine, Sir Barks-a-Lot\n",
    "Animal: {}\n",
    "Names:\"\"\".format(animal.capitalize())"
   ]
  },
  {
   "cell_type": "code",
   "execution_count": null,
   "id": "088c3f39",
   "metadata": {},
   "outputs": [],
   "source": [
    "print(generate_prompt(\"unicorn\"))"
   ]
  },
  {
   "cell_type": "code",
   "execution_count": null,
   "id": "8dc77b49",
   "metadata": {},
   "outputs": [],
   "source": [
    "animal = \"unicorn\"\n",
    "\n",
    "response = openai.Completion.create(\n",
    "  model=\"text-davinci-003\",\n",
    "  prompt=generate_prompt(animal),\n",
    "  temperature=0.6\n",
    ")"
   ]
  },
  {
   "cell_type": "code",
   "execution_count": null,
   "id": "7e685e1d",
   "metadata": {},
   "outputs": [],
   "source": [
    "response"
   ]
  },
  {
   "cell_type": "code",
   "execution_count": null,
   "id": "1fd7f797",
   "metadata": {},
   "outputs": [],
   "source": [
    "openai.ChatCompletion.create(\n",
    "  model=\"gpt-3.5-turbo\",\n",
    "  messages=[\n",
    "        {\"role\": \"system\", \"content\": \"You are a helpful assistant.\"},\n",
    "        {\"role\": \"user\", \"content\": \"Who won the world series in 2020?\"},\n",
    "        {\"role\": \"assistant\", \"content\": \"The Los Angeles Dodgers won the World Series in 2020.\"},\n",
    "        {\"role\": \"user\", \"content\": \"Where was it played?\"}\n",
    "    ]\n",
    ")"
   ]
  },
  {
   "cell_type": "code",
   "execution_count": null,
   "id": "6e0f6f6b",
   "metadata": {},
   "outputs": [],
   "source": [
    "import openai\n",
    "import json\n",
    "\n",
    "\n",
    "# Example dummy function hard coded to return the same weather\n",
    "# In production, this could be your backend API or an external API\n",
    "def get_current_weather(location, unit=\"fahrenheit\"):\n",
    "    \"\"\"Get the current weather in a given location\"\"\"\n",
    "    weather_info = {\n",
    "        \"location\": location,\n",
    "        \"temperature\": \"72\",\n",
    "        \"unit\": unit,\n",
    "        \"forecast\": [\"sunny\", \"windy\"],\n",
    "    }\n",
    "    return json.dumps(weather_info)\n",
    "\n",
    "\n",
    "def run_conversation():\n",
    "    # Step 1: send the conversation and available functions to GPT\n",
    "    messages = [{\"role\": \"user\", \"content\": \"What's the weather like in Boston?\"}]\n",
    "    functions = [\n",
    "        {\n",
    "            \"name\": \"get_current_weather\",\n",
    "            \"description\": \"Get the current weather in a given location\",\n",
    "            \"parameters\": {\n",
    "                \"type\": \"object\",\n",
    "                \"properties\": {\n",
    "                    \"location\": {\n",
    "                        \"type\": \"string\",\n",
    "                        \"description\": \"The city and state, e.g. San Francisco, CA\",\n",
    "                    },\n",
    "                    \"unit\": {\"type\": \"string\", \"enum\": [\"celsius\", \"fahrenheit\"]},\n",
    "                },\n",
    "                \"required\": [\"location\"],\n",
    "            },\n",
    "        }\n",
    "    ]\n",
    "    response = openai.ChatCompletion.create(\n",
    "        model=\"gpt-3.5-turbo-0613\",\n",
    "        messages=messages,\n",
    "        functions=functions,\n",
    "        function_call=\"auto\",  # auto is default, but we'll be explicit\n",
    "    )\n",
    "    response_message = response[\"choices\"][0][\"message\"]\n",
    "\n",
    "    # Step 2: check if GPT wanted to call a function\n",
    "    if response_message.get(\"function_call\"):\n",
    "        # Step 3: call the function\n",
    "        # Note: the JSON response may not always be valid; be sure to handle errors\n",
    "        available_functions = {\n",
    "            \"get_current_weather\": get_current_weather,\n",
    "        }  # only one function in this example, but you can have multiple\n",
    "        function_name = response_message[\"function_call\"][\"name\"]\n",
    "        fuction_to_call = available_functions[function_name]\n",
    "        function_args = json.loads(response_message[\"function_call\"][\"arguments\"])\n",
    "        function_response = fuction_to_call(\n",
    "            location=function_args.get(\"location\"),\n",
    "            unit=function_args.get(\"unit\"),\n",
    "        )\n",
    "\n",
    "        # Step 4: send the info on the function call and function response to GPT\n",
    "        messages.append(response_message)  # extend conversation with assistant's reply\n",
    "        messages.append(\n",
    "            {\n",
    "                \"role\": \"function\",\n",
    "                \"name\": function_name,\n",
    "                \"content\": function_response,\n",
    "            }\n",
    "        )  # extend conversation with function response\n",
    "        second_response = openai.ChatCompletion.create(\n",
    "            model=\"gpt-3.5-turbo-0613\",\n",
    "            messages=messages,\n",
    "        )  # get a new response from GPT where it can see the function response\n",
    "        return second_response\n",
    "\n",
    "\n",
    "print(run_conversation())"
   ]
  },
  {
   "cell_type": "code",
   "execution_count": null,
   "id": "22400288",
   "metadata": {},
   "outputs": [],
   "source": [
    "import openai\n",
    "\n",
    "response = openai.Completion.create(\n",
    "  model=\"text-davinci-003\",\n",
    "  prompt=\"Write a tagline for an ice cream shop.\"\n",
    ")\n",
    "\n",
    "response"
   ]
  },
  {
   "cell_type": "code",
   "execution_count": null,
   "id": "2d7e91c0",
   "metadata": {},
   "outputs": [],
   "source": [
    "import json\n",
    "test = [{'a': 'b'}, {'a': 'b'}, {'a': 'b'}]\n",
    "\n",
    "with open(\"data.qwer\", 'w') as f:\n",
    "    for item in test:\n",
    "        f.write(json.dumps(item) + \"\\n\")"
   ]
  },
  {
   "cell_type": "code",
   "execution_count": null,
   "id": "4eba8f37",
   "metadata": {},
   "outputs": [],
   "source": []
  },
  {
   "cell_type": "code",
   "execution_count": null,
   "id": "3e9d8446",
   "metadata": {},
   "outputs": [],
   "source": []
  },
  {
   "cell_type": "code",
   "execution_count": null,
   "id": "6192c391",
   "metadata": {},
   "outputs": [],
   "source": []
  },
  {
   "cell_type": "code",
   "execution_count": null,
   "id": "3d2840f1",
   "metadata": {},
   "outputs": [],
   "source": []
  },
  {
   "cell_type": "code",
   "execution_count": null,
   "id": "f7155f35",
   "metadata": {},
   "outputs": [],
   "source": []
  },
  {
   "cell_type": "code",
   "execution_count": null,
   "id": "4c2b494c",
   "metadata": {},
   "outputs": [],
   "source": []
  },
  {
   "cell_type": "code",
   "execution_count": null,
   "id": "f5b13fca",
   "metadata": {},
   "outputs": [],
   "source": []
  },
  {
   "cell_type": "code",
   "execution_count": null,
   "id": "6758b553",
   "metadata": {},
   "outputs": [],
   "source": []
  },
  {
   "cell_type": "code",
   "execution_count": null,
   "id": "582ad798",
   "metadata": {},
   "outputs": [],
   "source": []
  },
  {
   "cell_type": "code",
   "execution_count": null,
   "id": "878dafa1",
   "metadata": {},
   "outputs": [],
   "source": []
  },
  {
   "cell_type": "code",
   "execution_count": null,
   "id": "be0a9c02",
   "metadata": {},
   "outputs": [],
   "source": []
  },
  {
   "cell_type": "code",
   "execution_count": null,
   "id": "f3b7d383",
   "metadata": {},
   "outputs": [],
   "source": []
  },
  {
   "cell_type": "code",
   "execution_count": null,
   "id": "eaec294a",
   "metadata": {},
   "outputs": [],
   "source": []
  },
  {
   "cell_type": "code",
   "execution_count": null,
   "id": "21e8f484",
   "metadata": {},
   "outputs": [],
   "source": []
  },
  {
   "cell_type": "code",
   "execution_count": null,
   "id": "44b121f4",
   "metadata": {},
   "outputs": [],
   "source": []
  },
  {
   "cell_type": "code",
   "execution_count": null,
   "id": "924d978a",
   "metadata": {},
   "outputs": [],
   "source": []
  },
  {
   "cell_type": "code",
   "execution_count": null,
   "id": "1860dc78",
   "metadata": {},
   "outputs": [],
   "source": []
  },
  {
   "cell_type": "code",
   "execution_count": null,
   "id": "9adff4a4",
   "metadata": {},
   "outputs": [],
   "source": []
  },
  {
   "cell_type": "code",
   "execution_count": null,
   "id": "efae3232",
   "metadata": {},
   "outputs": [],
   "source": []
  },
  {
   "cell_type": "code",
   "execution_count": null,
   "id": "10b2643c",
   "metadata": {},
   "outputs": [],
   "source": []
  },
  {
   "cell_type": "code",
   "execution_count": null,
   "id": "a5289d0d",
   "metadata": {},
   "outputs": [],
   "source": []
  }
 ],
 "metadata": {
  "kernelspec": {
   "display_name": "Python 3",
   "language": "python",
   "name": "python3"
  },
  "language_info": {
   "codemirror_mode": {
    "name": "ipython",
    "version": 3
   },
   "file_extension": ".py",
   "mimetype": "text/x-python",
   "name": "python",
   "nbconvert_exporter": "python",
   "pygments_lexer": "ipython3",
   "version": "3.7.4"
  }
 },
 "nbformat": 4,
 "nbformat_minor": 5
}
