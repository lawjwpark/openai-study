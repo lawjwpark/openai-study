{
 "cells": [
  {
   "cell_type": "code",
   "execution_count": 5,
   "id": "c814071d",
   "metadata": {},
   "outputs": [],
   "source": [
    "import openai\n",
    "import os\n",
    "import json\n",
    "import pandas as pd\n",
    "from datetime import datetime"
   ]
  },
  {
   "cell_type": "code",
   "execution_count": 3,
   "id": "00ba5794",
   "metadata": {},
   "outputs": [],
   "source": [
    "OPENAI_API_KEY_PATH = \"/workspace/openai-study/openai_api_key.txt\"\n",
    "openai.api_key = open(OPENAI_API_KEY_PATH).readline()"
   ]
  },
  {
   "cell_type": "code",
   "execution_count": null,
   "id": "74b56c63",
   "metadata": {},
   "outputs": [],
   "source": [
    "class COARR_Mk2:\n",
    "    def __init__(self, review_path):\n",
    "        self.review_path = review_path\n",
    "        self.review_df = pd.read_csv(review_path, encoding=\"cp949\")\n",
    "        self.data_path = self.prepare_data()\n",
    "    \n",
    "    def prepare_data(self):\n",
    "        data_list = []\n",
    "        for idx, row in self.review_df.iterrows():\n",
    "            prompt = row.review + \"\\n\\n###\\n\\n\"\n",
    "            completion = \" \" + row.evaluation + \"###\"\n",
    "            data_list.append({\"prompt\": prompt, \"completion\": completion})\n",
    "        \n",
    "        time = datetime.now().strftime(\"%y%m%d_%H%M%S\")\n",
    "        with open(f\"./data/data_{time}.jsonl\", mode=\"w\", encoding=\"utf-8\") as file: \n",
    "            for data in data_list:\n",
    "                file.write(json.dumps(data, ensure_ascii=False) + \"\\n\")\n",
    "        \n",
    "        return f\"./data/data_{time}.jsonl\""
   ]
  },
  {
   "cell_type": "code",
   "execution_count": null,
   "id": "2fdea262",
   "metadata": {},
   "outputs": [],
   "source": [
    "coarr = COARR_Mk2(\"./data/review_01.csv\")"
   ]
  },
  {
   "cell_type": "code",
   "execution_count": null,
   "id": "8f63494b",
   "metadata": {},
   "outputs": [],
   "source": [
    "!openai tools fine_tunes.prepare_data -f ./data/data_230709_083234.jsonl"
   ]
  },
  {
   "cell_type": "code",
   "execution_count": null,
   "id": "61552b18",
   "metadata": {},
   "outputs": [],
   "source": [
    "!openai api fine_tunes.create -t  -m davinci"
   ]
  },
  {
   "cell_type": "code",
   "execution_count": null,
   "id": "4186f29f",
   "metadata": {},
   "outputs": [],
   "source": [
    "!openai api fine_tunes.follow -i <YOUR_FINE_TUNE_JOB_ID>"
   ]
  },
  {
   "cell_type": "code",
   "execution_count": null,
   "id": "dc525b00",
   "metadata": {},
   "outputs": [],
   "source": [
    "!openai api fine_tunes.list"
   ]
  },
  {
   "cell_type": "code",
   "execution_count": null,
   "id": "6b8f7943",
   "metadata": {},
   "outputs": [],
   "source": [
    "!openai api fine_tunes.get -i <YOUR_FINE_TUNE_JOB_ID>"
   ]
  },
  {
   "cell_type": "code",
   "execution_count": null,
   "id": "23eeecb5",
   "metadata": {},
   "outputs": [],
   "source": [
    "openai.Completion.create(\n",
    "    model=FINE_TUNED_MODEL,\n",
    "    prompt=YOUR_PROMPT\n",
    ")"
   ]
  },
  {
   "cell_type": "code",
   "execution_count": null,
   "id": "2e14ed02",
   "metadata": {},
   "outputs": [],
   "source": []
  },
  {
   "cell_type": "code",
   "execution_count": null,
   "id": "b97bc73b",
   "metadata": {},
   "outputs": [],
   "source": []
  },
  {
   "cell_type": "code",
   "execution_count": null,
   "id": "6d2a7bb2",
   "metadata": {},
   "outputs": [],
   "source": []
  },
  {
   "cell_type": "code",
   "execution_count": null,
   "id": "d2fe5daf",
   "metadata": {},
   "outputs": [],
   "source": []
  },
  {
   "cell_type": "code",
   "execution_count": null,
   "id": "0c4b8890",
   "metadata": {},
   "outputs": [],
   "source": []
  },
  {
   "cell_type": "code",
   "execution_count": null,
   "id": "619aa843",
   "metadata": {},
   "outputs": [],
   "source": []
  },
  {
   "cell_type": "code",
   "execution_count": null,
   "id": "cd982814",
   "metadata": {},
   "outputs": [],
   "source": []
  },
  {
   "cell_type": "code",
   "execution_count": null,
   "id": "8243ddcc",
   "metadata": {},
   "outputs": [],
   "source": []
  },
  {
   "cell_type": "code",
   "execution_count": null,
   "id": "f51b5cd5",
   "metadata": {},
   "outputs": [],
   "source": []
  }
 ],
 "metadata": {
  "kernelspec": {
   "display_name": "Python 3",
   "language": "python",
   "name": "python3"
  },
  "language_info": {
   "codemirror_mode": {
    "name": "ipython",
    "version": 3
   },
   "file_extension": ".py",
   "mimetype": "text/x-python",
   "name": "python",
   "nbconvert_exporter": "python",
   "pygments_lexer": "ipython3",
   "version": "3.7.4"
  }
 },
 "nbformat": 4,
 "nbformat_minor": 5
}
