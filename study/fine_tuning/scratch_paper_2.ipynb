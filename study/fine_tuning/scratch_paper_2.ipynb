{
 "cells": [
  {
   "cell_type": "code",
   "execution_count": 56,
   "id": "ab40cc85",
   "metadata": {},
   "outputs": [],
   "source": [
    "import openai\n",
    "import os\n",
    "import json\n",
    "import pandas as pd\n",
    "from datetime import datetime\n",
    "import deepl"
   ]
  },
  {
   "cell_type": "code",
   "execution_count": 57,
   "id": "0424f8aa",
   "metadata": {},
   "outputs": [],
   "source": [
    "OPENAI_API_KEY_PATH = \"/workspace/openai-study/openai_api_key.txt\"\n",
    "openai.api_key = open(OPENAI_API_KEY_PATH).readline()"
   ]
  },
  {
   "cell_type": "code",
   "execution_count": 58,
   "id": "a826cde8",
   "metadata": {},
   "outputs": [],
   "source": [
    "DEEPL_API_KEY_PATH = \"/workspace/openai-study/deepl_api_key.txt\"\n",
    "deepl_api_key = open(DEEPL_API_KEY_PATH).readline()\n",
    "translator = deepl.Translator(deepl_api_key)"
   ]
  },
  {
   "cell_type": "code",
   "execution_count": 61,
   "id": "a2f55de7",
   "metadata": {},
   "outputs": [],
   "source": [
    "class COARR_Mk2:\n",
    "    def __init__(self, review_path):\n",
    "        self.review_path = review_path\n",
    "        self.review_df = pd.read_csv(review_path)\n",
    "        self.data_path = self.prepare_data()\n",
    "    \n",
    "    def prepare_data(self):\n",
    "        data_list = []\n",
    "        for idx, row in self.review_df.iterrows():\n",
    "            prompt = row.review + \"\\n\\n###\\n\\n\"\n",
    "            completion = \" \" + row.evaluation + \"전문성 평가:\\n END\"\n",
    "            data_list.append({\"prompt\": prompt, \"completion\": completion})\n",
    "        \n",
    "        time = datetime.now().strftime(\"%y%m%d_%H%M%S\")\n",
    "        with open(f\"./data/data_{time}.jsonl\", mode=\"w\", encoding=\"utf-8\") as file: \n",
    "            for data in data_list:\n",
    "                file.write(json.dumps(data, ensure_ascii=False) + \"\\n\")\n",
    "        \n",
    "        return f\"./data/data_{time}.jsonl\""
   ]
  },
  {
   "cell_type": "code",
   "execution_count": 62,
   "id": "4ae65fc9",
   "metadata": {},
   "outputs": [],
   "source": [
    "coarr = COARR_Mk2(\"./data/review_01.csv\")"
   ]
  },
  {
   "cell_type": "code",
   "execution_count": null,
   "id": "f3129c4b",
   "metadata": {},
   "outputs": [],
   "source": [
    "!openai tools fine_tunes.prepare_data -f ./data/data_230709_083234.jsonl"
   ]
  },
  {
   "cell_type": "code",
   "execution_count": null,
   "id": "0e64b2a8",
   "metadata": {},
   "outputs": [],
   "source": [
    "!openai api fine_tunes.create -t  -m davinci"
   ]
  },
  {
   "cell_type": "code",
   "execution_count": null,
   "id": "85c948e6",
   "metadata": {},
   "outputs": [],
   "source": [
    "!openai api fine_tunes.follow -i <YOUR_FINE_TUNE_JOB_ID>"
   ]
  },
  {
   "cell_type": "code",
   "execution_count": null,
   "id": "b7d7139a",
   "metadata": {},
   "outputs": [],
   "source": [
    "!openai api fine_tunes.list"
   ]
  },
  {
   "cell_type": "code",
   "execution_count": null,
   "id": "8c3c90d0",
   "metadata": {},
   "outputs": [],
   "source": [
    "!openai api fine_tunes.get -i <YOUR_FINE_TUNE_JOB_ID>"
   ]
  },
  {
   "cell_type": "code",
   "execution_count": null,
   "id": "5d9a5a96",
   "metadata": {},
   "outputs": [],
   "source": [
    "openai.Completion.create(\n",
    "    model=FINE_TUNED_MODEL,\n",
    "    prompt=YOUR_PROMPT\n",
    ")"
   ]
  },
  {
   "cell_type": "code",
   "execution_count": null,
   "id": "7eef40fb",
   "metadata": {},
   "outputs": [],
   "source": [
    "msg = \"\"\"아래 리뷰에 대해 2가지 항목으로 전문성을 평가해주세요. 항목1은 10점 만점, 항목2는 5점 만점으로 점수를 매겨 주세요.\n",
    "\n",
    "항목1: 맛에 대한 구체적인 묘사 및 세부적인 향과 텍스처의 표현 수준\n",
    "항목2: 구체적인 분위기의 특징과 서비스의 품질에 대한 세부적인 묘사 수준\n",
    "\n",
    "리뷰:\"\"\"\n",
    "\n",
    "result = translator.translate_text(msg, target_lang=\"EN-US\")"
   ]
  },
  {
   "cell_type": "code",
   "execution_count": null,
   "id": "3379f4a4",
   "metadata": {},
   "outputs": [],
   "source": [
    "print(result.text)"
   ]
  },
  {
   "cell_type": "code",
   "execution_count": null,
   "id": "991e6456",
   "metadata": {},
   "outputs": [],
   "source": []
  },
  {
   "cell_type": "code",
   "execution_count": null,
   "id": "403fffe1",
   "metadata": {},
   "outputs": [],
   "source": []
  },
  {
   "cell_type": "code",
   "execution_count": null,
   "id": "0f4f2507",
   "metadata": {},
   "outputs": [],
   "source": []
  },
  {
   "cell_type": "code",
   "execution_count": null,
   "id": "2ec92a69",
   "metadata": {},
   "outputs": [],
   "source": []
  },
  {
   "cell_type": "code",
   "execution_count": null,
   "id": "f2273a41",
   "metadata": {},
   "outputs": [],
   "source": []
  },
  {
   "cell_type": "code",
   "execution_count": null,
   "id": "7fe58672",
   "metadata": {},
   "outputs": [],
   "source": []
  },
  {
   "cell_type": "code",
   "execution_count": null,
   "id": "58c05e3f",
   "metadata": {},
   "outputs": [],
   "source": []
  },
  {
   "cell_type": "code",
   "execution_count": null,
   "id": "ceb843cf",
   "metadata": {},
   "outputs": [],
   "source": []
  },
  {
   "cell_type": "code",
   "execution_count": null,
   "id": "279d8713",
   "metadata": {},
   "outputs": [],
   "source": []
  },
  {
   "cell_type": "code",
   "execution_count": null,
   "id": "8b40d6b7",
   "metadata": {},
   "outputs": [],
   "source": []
  },
  {
   "cell_type": "code",
   "execution_count": null,
   "id": "218e4385",
   "metadata": {},
   "outputs": [],
   "source": []
  },
  {
   "cell_type": "code",
   "execution_count": null,
   "id": "0f8c5475",
   "metadata": {},
   "outputs": [],
   "source": []
  },
  {
   "cell_type": "code",
   "execution_count": null,
   "id": "4edc20e6",
   "metadata": {},
   "outputs": [],
   "source": []
  },
  {
   "cell_type": "code",
   "execution_count": null,
   "id": "7bc54658",
   "metadata": {},
   "outputs": [],
   "source": []
  },
  {
   "cell_type": "code",
   "execution_count": null,
   "id": "d0dc8cae",
   "metadata": {},
   "outputs": [],
   "source": []
  },
  {
   "cell_type": "code",
   "execution_count": null,
   "id": "b4732bfb",
   "metadata": {},
   "outputs": [],
   "source": []
  },
  {
   "cell_type": "code",
   "execution_count": null,
   "id": "336ca358",
   "metadata": {},
   "outputs": [],
   "source": []
  },
  {
   "cell_type": "code",
   "execution_count": null,
   "id": "72e361da",
   "metadata": {},
   "outputs": [],
   "source": []
  },
  {
   "cell_type": "code",
   "execution_count": null,
   "id": "92bac828",
   "metadata": {},
   "outputs": [],
   "source": []
  },
  {
   "cell_type": "code",
   "execution_count": null,
   "id": "3e56c549",
   "metadata": {},
   "outputs": [],
   "source": []
  },
  {
   "cell_type": "code",
   "execution_count": null,
   "id": "68305086",
   "metadata": {},
   "outputs": [],
   "source": []
  },
  {
   "cell_type": "code",
   "execution_count": null,
   "id": "74d2d345",
   "metadata": {},
   "outputs": [],
   "source": [
    "Shaman Shaman is a new restaurant that just opened!  It's a one-person shabu-shabu dachi tavern with a cute name^^  I used the catch table to link the reservation!  ​  ​  50m  © © NAVER Corp. Shy. Shy. Shy 1st floor, 32-14, Eonju-ro 135-gil, Gangnam-gu, Seoul (Nonhyeon-dong, KOST office building)  I'll attach the map for the location!  ​  ​  ​      I visited in the evening, and it's the entrance to the store!   ​      There were Dodge seats in the store, and there were seats where you could drink alone and eat alone!  Under the article \"To a bar alone,\" it says that OTT services are legally provided?Hahaha  The owner has the best sense!!  ​  ​             Seeing the boss who treats me comfortably even if I eat alone with my friends and lover, I decided to try the next Honbab at Shadansha! (FYI, I can't eat alone, but the boss is so kind!!)  ​  ​  ​      We made a reservation at the catch table, and they prepared a seat where we can sit face to face and eat!  ​  ​   Here's the menu. It's a shabu shabu course for one person and it's 38000 won per person. There are also lunch menus, additional shabu-shabu menus, and alcoholic beverages! We ordered 2 courses for one person and 2 clear broths for the broth^^  ​  ​      The basic setting is like this, and they gave us welcome tea!  ​  ​  ​   First, prepare cheese fondue. Baguette and Nacho together!  ​  ​      I was surprised when I saw the amount of cheese  ​  ​      The cheese melted faster than I thought! I was in a hurry when a lot of cheese melted? Cheese is really...I really liked it, so I wanted to eat it LOL  ​  ​      Do you see the cheese that's stretching out? It's a lot!!!  ​  ​  ​         And I dipped nachos and baguette in it! There's a lot of cheese, so I just dip it in a lot.. Wow, it's really good!!!  The cheese flavor is really thick, thick, and savoryYou're the best...  ​  ​   And if you tell me, they'll give me an apron! I always spill and eat, so I need an apron ^^  ​   I'm going to eat shabu shabu now! Put the clear broth in a pot and when it boils, add vegetables and meat and reduce it to 3 It's simple, right??  ​  ​      The vegetables came out The amount is huge.. First of all, there's a lot of shadansha!! You have to empty your stomach... You're the bestcrying  ​  ​      And the meat came out too! It's Hanwoo Mokshim 1++! It's sprinkled with gold powder! The visuals are the best  ​  ​   Oh, and the Chinese noodles that came with vegetables take time to cook, so please put them in first!!  ​  ​      And I like vegetables, so I added a lot and boiled it! Boiling shabu shabu!  I was so happy that I came out as one person! It was so comfortable because I could put whatever I wanted and the temperature was whatever I wanted!!  ​  ​   Now, I'm ready to eat!  ​  ​      Terra can't be left out!  ​  ​   I'll really try it!!  ​  ​      I've tried peanut sauce that I like  I tried melted cheese fondue^^^  Everything is delicious...You're the best...Really! Just go with Shaman Shaman!!!  ​  ​      And meat!! As expected, meat is the best... The soup was thick and the meat was soft, so it was so delicious!!  ​  ​      I also took out the Chinese glass noodles that I forgot while eating meat and vegetables! Chewy noodles are the best!!!  ​  ​  ​      I also ate a lot of meat in peanut sauce! Both the staff and the CEO were kind, so they came often to ask if there was anything lacking and filled it upPeanut sauce killer.. They refilled it a few times And I gave meat to my friend who went with me because there was too much There's a lot of food!  ​  ​  ​      When I'm enjoying the meat  ​  ​  ​   Seafood is here, too! It's squid and shrimp, and the heart shape makes my heart fluttering!! And the shrimp was really big!!  ​  ​      I'll try the squid first LOL  ​  ​      It cooks really quickly! I dipped it in a lot of peanut sauce, and it's chewy!! I can't believe there's a shabu shabu restaurant where you can eat both meat and seafood... It was great.The course is perfect!!  ​  ​      And shrimp! Can you see the shrimp? It's really big.. It's not just a small shrimp, but a huge and fresh shrimp, so I was very touched... Is there anything left for 38000 won? to the point where I can't stop crying  ​  ​  ​   The boat is completely full, but there's another last course left? LOL You can choose one out of three: ramen, barley jotto, and tteokbokki! We chose ramen and tteokbokki, and we were so full that we asked for some tteokbokki!  I'll show you the ramen first!  ​  ​      Put the ramen in the remaining broth and boil it! I added shrimp and ate it to taste like seafood! If I put the leftover cheese fondue next to it, it'll be cheese ramen, right?I think you can eat it with your preference!  ​  ​  ​   It's not good because the broth is finished! I was full, but I couldn't stop eating...  ​  ​  ​   When you're almost done with the ramen, add the eggs that came with it! She's the only one who doesn't miss anything!! The course is perfect!  ​  ​      I'll make tteokbokki, too! I put it in the rest of the broth and boiled it!  ​  ​   I like cheese, so I added the leftover cheese fondue and boiled it, and it tasted like cheese tteokbokki!!! It was a bit salty, but it was more delicious I'm so full  ​  ​   Finally, lemon sherbet came out. It was so refreshing and delicious when I chewed on the lemon! After eating shabu shabu, with a salty mouth, make it refreshing!! I strongly recommend Shaman Sha, who I want to give 100 out of 100!!!  ​  ​  For those who want to drink alone quietly, and for those who want to eat delicious shabu-shabu, please visit!!"
   ]
  },
  {
   "cell_type": "code",
   "execution_count": 40,
   "id": "29573f30",
   "metadata": {},
   "outputs": [
    {
     "name": "stdout",
     "output_type": "stream",
     "text": [
      "For the restaurant review below, please rate how much the review is professional on two criteria and elaborate it, with criterion 1 out of 10 and criterion 2 out of 5.\n",
      "criterion1: Contains specific descriptions of flavors and level of detail in the presentation of flavors and textures\n",
      "criterion2: Contains specific descriptions of ambiance and level of detail on quality of service\n",
      "the output format is the followings:\n",
      "{\n",
      "  \"criterion1\": {\n",
      "    \"rating\": \"?/10\",\n",
      "    \"elaboration\": \"\"\n",
      "  },\n",
      "  \"criterion2\": {\n",
      "    \"rating\": \"?/5\",\n",
      "    \"elaboration\": \"\"\n",
      "  }\n",
      "}\n",
      "Review:\n",
      "One of the reasons I came to Mokpo with Cie. As someone who has a very deep and long-standing attachment to charcuterie, the word \"fishery\" was a trigger in a positive way, and I had such a great experience that I would recommend anyone to organize a trip to Mokpo just for this one.  I had brought a white for the corkage, but it took a while to decant and the weather was still warm, so I ordered a bottle of sparkling to drink right away. At this point, I didn't even realize I had brought wine...  Three amuse bouches. From left: sweet potato mousse with tricorne octopus, beurre popcorn, and jambon bourguignon.  Coincidentally, my first bite at Cie the day before was also a tartlet with a sweet potato base and abalone filling, so it was interesting. The sweet potato's sweetness and dense texture supported the chewy seafood better than I expected.  The dried and deep-fried burette was topped with a little paprika sauce, which was lightly fried like popcorn. It was so thick that it was airy, unlike the crispness of thin chips. The cayenne pepper/pimento flavor is a nice touch that tickles the nose.  It's accented with butter made from a mixture of seaweed fishery and dried bonito on top. The flavor of the dried fish provides a nice kick, while retaining the pleasurable carb+fat combination of the jambon beurre. It was an amuse bouche that showcased the allure of salting and drying in that each small bite released a compressed flavor.  Carpaccio of sea bass with apple.  It was served with yuzu sauce and garlic oil, and the solid white sauce you see under the dill is yogurt sauce.  I said the same thing in Cie's post, but I don't think sea bass is actually a flavorful fish in and of itself, and it's also a fish that's difficult to discuss meaningfully in many contexts because it's consumed in a very structured way. For him, it's refreshing to see a dish that emphasizes the role of the kitchen rather than convention and ingredients.  Fig leaf oil smoked Wando abalone with herb aioli.  This was so textured, layered, balanced, and perfect that I ate every bite very slowly. I've come across fig leaf oil before in desserts, but never in a regular dish, and its tangy but delicate flavor and aroma worked so well with the abalone, which is also a delicate ingredient. Just when you think you've settled in, the dill blossoms provide a breath of fresh air, and the nutty aioli adds an explosion of flavor.  Fish terrine brandade and red scallop gratin.  The fish was soft and fluffy, with a fine texture, and the flavor of the fish came through nicely with a clear liver, making for a delicious brandade.  On this side, the heated béchamel sauce plays a similar role to the potatoes in the brandade, creating a different impression. At this point, I'd paired it with the sparkling I'd ordered for the first time, but it would also go really well with a stronger white.  The fish terrine platter as an a la carte addition. What a beautiful presentation...  First up was a semi-dry, slightly short-cured raw ham with a variety of spices. It wasn't part of the course, but it was definitely the star of the platter. First of all, the texture is very firm and chewy, like a jelly, which is something you don't often find in meat charcuterie. I didn't ask what kind of spices were used in the flavor, but I felt that it had a higher proportion of cool spices than warm ones, and that, combined with the flavor of the unboiled fish and the fairly high salinity, made me feel like I was swimming in a sea of herbs and spices.  This is the bluefin tuna fish terrine that went on top of the Amuse's seaweed jambon bordeaux. It's completely dry and has been pushed out with a planer like a katsuobushi, which makes for an interesting contrast to the raw ham of the previous dish, as there is very little moisture in the red fish.  Here's the fried skin of the sea bream. On a different note, I'm a big fan of puktae snacks. There was a bar in my old neighborhood where you could order grilled ink-tae and they would remove the skin and deep-fry it separately, and it was an amazing delicacy. After the restaurant went out of business, I hadn't seen a place that did that for a while, so I was very happy to find a similar taste here. I'm not sure if it's a bit rude to the chef here compared to the casual food, but frying chicken skin, which was all the rage at the time, is not 'tasteless' if you fry the skin, which contains fat and collagen in the first place.  The generous serving of popcorn with the boure made up for the disappointment of only getting one bite at Amuse. Even without the paprika sauce, the seasoning itself is rich with a smoky spiciness from cayenne pepper and pimentón.  Don't get me wrong, I ordered extra wine by the glass ^^...(shameless)  Minnow sausage.  The sausage is stuffed with the flesh of the fish and the sauce is made from the bones. The texture and flavor was so impressive that I can still remember it clearly over a month later. The inside of the sausage is very concentrated and flavorful, but it's not the least bit fluffy like the previous brandade, and the sauce, which draws out the gelatin and flavor of the bones, supports the sausage with a richness that's almost as high as the viscosity in the photo.  Anago risotto with fennel pickles.  The risotto alone, made with anago bone broth, is quite flavorful, and the Japanese-style sweet and salty anago is the highlight. The fennel pickles and chervil cut through the punch.  At this point, the flavors should take a backseat to the alcohol, but the gradual ascent was so well organized that I was able to enjoy it with a clear head until the end.  It didn't end with two bottles of wine...?  Peppermint ice cream.  It was even better to have such a refreshing dessert while we were still pretty drunk.  We hope to see you again in the not too distant future... https://blog.naver.com/joon960504/223122897330  [Cie/Mokpo] After Seoul, Before Busan, Out of Cheongdam(1) Exceptional Cuisine, Worth a Special Journey *This post is about Mokpo's 'Fishtery', which will be uploaded later... blog.naver.com The last post in the context of the series posed questions rather than answers. The last post, written in the context of a series, posed a question, not an answer. What kind of restaurant is worth a special journey?  Of course, different people have different ideas, and there's no one right answer. If I had to give my own answer, it would be \"a restaurant that breathes with the city. When I think of Seoul, there are very few restaurants that feel like they are part of the city. As I mentioned in my last post, this is not the same thing as excellent cooking or exceptional cuisine. Just for the record, I'm not suggesting that even in a city with no primary industry, local ingredients should be used, or that this is Korea, after all, and it should be Koreanized. In the case of Cie and Fishtarian, not all of the ingredients in their dishes are from Mokpo, nor are they Korean.  It is an interaction of identities, which means that the city and the restaurant breathe. For this to happen, the identity of the city must first be established. Then the city embraces the restaurant, the restaurant shines the city, and only then can the restaurant itself function as a destination. In Mokpo, we've seen a good example of this with two restaurants, but what about Seoul... first, what is the identity of Seoul?  I feel like I'm asking more questions than I'm answering, but I think it's a good time to start thinking about it, especially now that a new city's Michelin Guide is about to be published. There's nothing wrong with following a proven authority, but to avoid getting lost, you have to ask yourself what you're running towards. Do we need a ranking of fine dining restaurants, or a restaurant guide that tells the story of a city, new or old?\n"
     ]
    }
   ],
   "source": [
    "text = \"\"\"One of the reasons I came to Mokpo with Cie. As someone who has a very deep and long-standing attachment to charcuterie, the word \"fishery\" was a trigger in a positive way, and I had such a great experience that I would recommend anyone to organize a trip to Mokpo just for this one.\n",
    "\n",
    "\n",
    "I had brought a white for the corkage, but it took a while to decant and the weather was still warm, so I ordered a bottle of sparkling to drink right away. At this point, I didn't even realize I had brought wine...\n",
    "\n",
    "\n",
    "\n",
    "Three amuse bouches. From left: sweet potato mousse with tricorne octopus, beurre popcorn, and jambon bourguignon.\n",
    "\n",
    "\n",
    "Coincidentally, my first bite at Cie the day before was also a tartlet with a sweet potato base and abalone filling, so it was interesting. The sweet potato's sweetness and dense texture supported the chewy seafood better than I expected.\n",
    "\n",
    "\n",
    "The dried and deep-fried burette was topped with a little paprika sauce, which was lightly fried like popcorn. It was so thick that it was airy, unlike the crispness of thin chips. The cayenne pepper/pimento flavor is a nice touch that tickles the nose.\n",
    "\n",
    "\n",
    "It's accented with butter made from a mixture of seaweed fishery and dried bonito on top. The flavor of the dried fish provides a nice kick, while retaining the pleasurable carb+fat combination of the jambon beurre. It was an amuse bouche that showcased the allure of salting and drying in that each small bite released a compressed flavor.\n",
    "\n",
    "\n",
    "Carpaccio of sea bass with apple.\n",
    "\n",
    "\n",
    "It was served with yuzu sauce and garlic oil, and the solid white sauce you see under the dill is yogurt sauce.\n",
    "\n",
    "\n",
    "\n",
    "I said the same thing in Cie's post, but I don't think sea bass is actually a flavorful fish in and of itself, and it's also a fish that's difficult to discuss meaningfully in many contexts because it's consumed in a very structured way. For him, it's refreshing to see a dish that emphasizes the role of the kitchen rather than convention and ingredients.\n",
    "\n",
    "\n",
    "Fig leaf oil smoked Wando abalone with herb aioli.\n",
    "\n",
    "\n",
    "This was so textured, layered, balanced, and perfect that I ate every bite very slowly. I've come across fig leaf oil before in desserts, but never in a regular dish, and its tangy but delicate flavor and aroma worked so well with the abalone, which is also a delicate ingredient. Just when you think you've settled in, the dill blossoms provide a breath of fresh air, and the nutty aioli adds an explosion of flavor.\n",
    "\n",
    "\n",
    "Fish terrine brandade and red scallop gratin.\n",
    "\n",
    "\n",
    "The fish was soft and fluffy, with a fine texture, and the flavor of the fish came through nicely with a clear liver, making for a delicious brandade.\n",
    "\n",
    "\n",
    "On this side, the heated béchamel sauce plays a similar role to the potatoes in the brandade, creating a different impression. At this point, I'd paired it with the sparkling I'd ordered for the first time, but it would also go really well with a stronger white.\n",
    "\n",
    "\n",
    "The fish terrine platter as an a la carte addition. What a beautiful presentation...\n",
    "\n",
    "\n",
    "First up was a semi-dry, slightly short-cured raw ham with a variety of spices. It wasn't part of the course, but it was definitely the star of the platter. First of all, the texture is very firm and chewy, like a jelly, which is something you don't often find in meat charcuterie. I didn't ask what kind of spices were used in the flavor, but I felt that it had a higher proportion of cool spices than warm ones, and that, combined with the flavor of the unboiled fish and the fairly high salinity, made me feel like I was swimming in a sea of herbs and spices.\n",
    "\n",
    "\n",
    "This is the bluefin tuna fish terrine that went on top of the Amuse's seaweed jambon bordeaux. It's completely dry and has been pushed out with a planer like a katsuobushi, which makes for an interesting contrast to the raw ham of the previous dish, as there is very little moisture in the red fish.\n",
    "\n",
    "\n",
    "Here's the fried skin of the sea bream. On a different note, I'm a big fan of puktae snacks. There was a bar in my old neighborhood where you could order grilled ink-tae and they would remove the skin and deep-fry it separately, and it was an amazing delicacy. After the restaurant went out of business, I hadn't seen a place that did that for a while, so I was very happy to find a similar taste here. I'm not sure if it's a bit rude to the chef here compared to the casual food, but frying chicken skin, which was all the rage at the time, is not 'tasteless' if you fry the skin, which contains fat and collagen in the first place.\n",
    "\n",
    "\n",
    "The generous serving of popcorn with the boure made up for the disappointment of only getting one bite at Amuse. Even without the paprika sauce, the seasoning itself is rich with a smoky spiciness from cayenne pepper and pimentón.\n",
    "\n",
    "\n",
    "Don't get me wrong, I ordered extra wine by the glass ^^...(shameless)\n",
    "\n",
    "\n",
    "Minnow sausage.\n",
    "\n",
    "\n",
    "The sausage is stuffed with the flesh of the fish and the sauce is made from the bones. The texture and flavor was so impressive that I can still remember it clearly over a month later. The inside of the sausage is very concentrated and flavorful, but it's not the least bit fluffy like the previous brandade, and the sauce, which draws out the gelatin and flavor of the bones, supports the sausage with a richness that's almost as high as the viscosity in the photo.\n",
    "\n",
    "\n",
    "Anago risotto with fennel pickles.\n",
    "\n",
    "\n",
    "The risotto alone, made with anago bone broth, is quite flavorful, and the Japanese-style sweet and salty anago is the highlight. The fennel pickles and chervil cut through the punch.\n",
    "\n",
    "\n",
    "\n",
    "At this point, the flavors should take a backseat to the alcohol, but the gradual ascent was so well organized that I was able to enjoy it with a clear head until the end.\n",
    "\n",
    "\n",
    "It didn't end with two bottles of wine...?\n",
    "\n",
    "\n",
    "Peppermint ice cream.\n",
    "\n",
    "\n",
    "It was even better to have such a refreshing dessert while we were still pretty drunk.\n",
    "\n",
    "\n",
    "We hope to see you again in the not too distant future...\n",
    "\n",
    "https://blog.naver.com/joon960504/223122897330\n",
    "\n",
    "\n",
    "[Cie/Mokpo] After Seoul, Before Busan, Out of Cheongdam(1)\n",
    "Exceptional Cuisine, Worth a Special Journey *This post is about Mokpo's 'Fishtery', which will be uploaded later...\n",
    "\n",
    "blog.naver.com\n",
    "\n",
    "The last post in the context of the series posed questions rather than answers. The last post, written in the context of a series, posed a question, not an answer. What kind of restaurant is worth a special journey?\n",
    "\n",
    "\n",
    "\n",
    "Of course, different people have different ideas, and there's no one right answer. If I had to give my own answer, it would be \"a restaurant that breathes with the city. When I think of Seoul, there are very few restaurants that feel like they are part of the city. As I mentioned in my last post, this is not the same thing as excellent cooking or exceptional cuisine. Just for the record, I'm not suggesting that even in a city with no primary industry, local ingredients should be used, or that this is Korea, after all, and it should be Koreanized. In the case of Cie and Fishtarian, not all of the ingredients in their dishes are from Mokpo, nor are they Korean.\n",
    "\n",
    "\n",
    "\n",
    "It is an interaction of identities, which means that the city and the restaurant breathe. For this to happen, the identity of the city must first be established. Then the city embraces the restaurant, the restaurant shines the city, and only then can the restaurant itself function as a destination. In Mokpo, we've seen a good example of this with two restaurants, but what about Seoul... first, what is the identity of Seoul?\n",
    "\n",
    "\n",
    "\n",
    "I feel like I'm asking more questions than I'm answering, but I think it's a good time to start thinking about it, especially now that a new city's Michelin Guide is about to be published. There's nothing wrong with following a proven authority, but to avoid getting lost, you have to ask yourself what you're running towards. Do we need a ranking of fine dining restaurants, or a restaurant guide that tells the story of a city, new or old?\"\"\"\n",
    "\n",
    "\n",
    "print(\"\"\"For the restaurant review below, please rate how much the review is professional on two criteria and elaborate it, with criterion 1 out of 10 and criterion 2 out of 5.\n",
    "criterion1: Contains specific descriptions of flavors and level of detail in the presentation of flavors and textures\n",
    "criterion2: Contains specific descriptions of ambiance and level of detail on quality of service\n",
    "the output format is the followings:\n",
    "{\n",
    "  \"criterion1\": {\n",
    "    \"rating\": \"?/10\",\n",
    "    \"elaboration\": \"\"\n",
    "  },\n",
    "  \"criterion2\": {\n",
    "    \"rating\": \"?/5\",\n",
    "    \"elaboration\": \"\"\n",
    "  }\n",
    "}\n",
    "Review:\n",
    "\"\"\" + text.replace(\"\\n\", \" \").replace(\"  \", \" \"))"
   ]
  },
  {
   "cell_type": "code",
   "execution_count": 55,
   "id": "7d58005a",
   "metadata": {},
   "outputs": [
    {
     "name": "stdout",
     "output_type": "stream",
     "text": [
      "For the restaurant review below, please rate how much the review is professional on two criteria and explain with examples, with criterion 1 out of 10 and criterion 2 out of 5.\n",
      "criterion1: include descriptions of flavors and textures and specific ingredients and their characteristics\n",
      "criterion2: include detailed descriptions of ambience and quality of service\n",
      "the output format is the followings:\n",
      "{\n",
      "  \"criterion1\": {\n",
      "    \"rating\": \"?/10\",\n",
      "    \"description\": \"\"\n",
      "  },\n",
      "  \"criterion2\": {\n",
      "    \"rating\": \"?/5\",\n",
      "    \"description\": \"\"\n",
      "  }\n",
      "}\n",
      "Review:\n",
      "Yoshikawa is a long-established restaurant famous for its tempura. It's located near Kyoto City Hall, but it's not a tempura restaurant, Yoshikawa is a luxury ryokan that has been in business for over 100 years, and the tempura served for dinner was so popular that they opened a small tempura shop.  The space has a very old feel to it, but it is immaculately maintained.  The lunch course is reasonably priced at 5,500 yen, but if you want to add a single piece outside of the set course, you'll have to pay an additional 3 to 4 thousand yen.  so it's hard to justify the price.   Each item is well fried.  We started with the shrimp.It's not the kind of lightly fried shrimp that's not greasy at all,I don't think you can expect that kind of quality tempura from an old restaurant like this.  However, I could taste the flavors of the ingredients and the tempura coating was thin and fried well.Not bad for 5500 yen, right?Fukinoto, coltsfoot.  This is a vegetable similar to fern, which is called kogomi in Japan.It has a strong crunchy texture and is characterized by a sticky texture similar to okura.  Eel is also eaten~.  They also fried mugwort.  After all, Kyoto is the number one brand of vegetables in Japan.The mushrooms also have a deep flavor.I don't know if it's real or a placebo,but good is good.  We ate some yung corn,  and fried scallops and peppers.As you can see in the picture, the temperature is right.  Does it matter?Finally, we finished with shrimp.That's it for the regular course, and below is the menu I added.  Thick meaty kissAn indispensable ingredient for tempura~.The bones were trimmed off and fried to a crisp.  I also added fugu shirako, which made my belly button bigger than my stomach...lol.It's a shop that makes you feel like you've gone back a hundred years.I don't think it's a good place to go to argue about this and that,I think it's good for enjoying a good atmosphere and having a moderately delicious meal.The location is also in a convenient place to go, so it would be good to organize a sightseeing course back and forth~.The prices are reasonable, so I can easily recommend it.\n"
     ]
    }
   ],
   "source": [
    "text = \"\"\"Yoshikawa is a long-established restaurant famous for its tempura.\n",
    "\n",
    "It's located near Kyoto City Hall,\n",
    "\n",
    "but it's not a tempura restaurant,\n",
    "\n",
    "Yoshikawa is a luxury ryokan that has been in business for over 100 years, and the tempura served for dinner was so popular that they opened a small tempura shop.\n",
    "\n",
    "\n",
    "The space has a very old feel to it, but it is immaculately maintained.\n",
    "\n",
    "\n",
    "The lunch course is reasonably priced at 5,500 yen,\n",
    "\n",
    "but if you want to add a single piece outside of the set course, you'll have to pay an additional 3 to 4 thousand yen. \n",
    "\n",
    "so it's hard to justify the price.\n",
    "\n",
    "\n",
    "\n",
    "\n",
    "Each item is well fried.\n",
    "\n",
    "\n",
    "We started with the shrimp.It's not the kind of lightly fried shrimp that's not greasy at all,I don't think you can expect that kind of quality tempura from an old restaurant like this.\n",
    "\n",
    "\n",
    "However, I could taste the flavors of the ingredients and the tempura coating was thin and fried well.Not bad for 5500 yen, right?Fukinoto, coltsfoot.\n",
    "\n",
    "\n",
    "This is a vegetable similar to fern, which is called kogomi in Japan.It has a strong crunchy texture and is characterized by a sticky texture similar to okura.\n",
    "\n",
    "\n",
    "Eel is also eaten~.\n",
    "\n",
    "\n",
    "They also fried mugwort.\n",
    "\n",
    "\n",
    "\n",
    "After all, Kyoto is the number one brand of vegetables in Japan.The mushrooms also have a deep flavor.I don't know if it's real or a placebo,but good is good.\n",
    "\n",
    "\n",
    "We ate some yung corn,\n",
    "\n",
    "\n",
    "and fried scallops and peppers.As you can see in the picture, the temperature is right.\n",
    "\n",
    "\n",
    "Does it matter?Finally, we finished with shrimp.That's it for the regular course, and below is the menu I added.\n",
    "\n",
    "\n",
    "Thick meaty kissAn indispensable ingredient for tempura~.The bones were trimmed off and fried to a crisp.\n",
    "\n",
    "\n",
    "I also added fugu shirako, which made my belly button bigger than my stomach...lol.It's a shop that makes you feel like you've gone back a hundred years.I don't think it's a good place to go to argue about this and that,I think it's good for enjoying a good atmosphere and having a moderately delicious meal.The location is also in a convenient place to go, so it would be good to organize a sightseeing course back and forth~.The prices are reasonable, so I can easily recommend it.\"\"\"\n",
    "\n",
    "\n",
    "print(\"\"\"For the restaurant review below, please rate how much the review is professional on two criteria and explain with examples, with criterion 1 out of 10 and criterion 2 out of 5.\n",
    "criterion1: include descriptions of flavors and textures and specific ingredients and their characteristics\n",
    "criterion2: include detailed descriptions of ambience and quality of service\n",
    "the output format is the followings:\n",
    "{\n",
    "  \"criterion1\": {\n",
    "    \"rating\": \"?/10\",\n",
    "    \"description\": \"\"\n",
    "  },\n",
    "  \"criterion2\": {\n",
    "    \"rating\": \"?/5\",\n",
    "    \"description\": \"\"\n",
    "  }\n",
    "}\n",
    "Review:\n",
    "\"\"\" + text.replace(\"\\n\", \" \").replace(\"  \", \" \"))"
   ]
  },
  {
   "cell_type": "code",
   "execution_count": null,
   "id": "1c6cdcb7",
   "metadata": {},
   "outputs": [],
   "source": []
  },
  {
   "cell_type": "code",
   "execution_count": null,
   "id": "3c7b8b21",
   "metadata": {},
   "outputs": [],
   "source": []
  },
  {
   "cell_type": "code",
   "execution_count": null,
   "id": "ad74e601",
   "metadata": {},
   "outputs": [],
   "source": []
  },
  {
   "cell_type": "code",
   "execution_count": null,
   "id": "c2bf54da",
   "metadata": {},
   "outputs": [],
   "source": []
  },
  {
   "cell_type": "code",
   "execution_count": null,
   "id": "ef263c88",
   "metadata": {},
   "outputs": [],
   "source": []
  }
 ],
 "metadata": {
  "kernelspec": {
   "display_name": "Python 3",
   "language": "python",
   "name": "python3"
  },
  "language_info": {
   "codemirror_mode": {
    "name": "ipython",
    "version": 3
   },
   "file_extension": ".py",
   "mimetype": "text/x-python",
   "name": "python",
   "nbconvert_exporter": "python",
   "pygments_lexer": "ipython3",
   "version": "3.7.4"
  }
 },
 "nbformat": 4,
 "nbformat_minor": 5
}
