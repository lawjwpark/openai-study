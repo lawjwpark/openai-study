{
 "cells": [
  {
   "cell_type": "code",
   "execution_count": 26,
   "id": "8a840732",
   "metadata": {},
   "outputs": [],
   "source": [
    "import openai\n",
    "import os\n",
    "import json\n",
    "import pandas as pd\n",
    "from datetime import datetime"
   ]
  },
  {
   "cell_type": "code",
   "execution_count": 44,
   "id": "007754f8",
   "metadata": {},
   "outputs": [],
   "source": [
    "class COARR:\n",
    "    def __init__(self, revw_eval_path):\n",
    "        self.revw_eval_path = revw_eval_path\n",
    "        self.revw_eval_df = pd.read_csv(revw_eval_path, encoding=\"cp949\")\n",
    "        self.data_path = self.revw_eval_data()\n",
    "    \n",
    "    def revw_eval_data(self):\n",
    "        pmpt_cmpn = []\n",
    "        for idx, row in self.revw_eval_df.iterrows():\n",
    "            pmpt = row.review + \"\\n\\n###\\n\\n\"\n",
    "            cmpn = \" \" + row.evaluation + \"###\"\n",
    "            pmpt_cmpn.append({\"prompt\": pmpt, \"completion\": cmpn})\n",
    "        \n",
    "        time = datetime.now().strftime(\"%y%m%d_%H%M%S\")\n",
    "        with open(f\"data_{time}.jsonl\", mode=\"w\", encoding=\"utf-8\") as file: \n",
    "            for datum in pmpt_cmpn:\n",
    "                file.write(json.dumps(datum, ensure_ascii=False) + \"\\n\")\n",
    "        return f\"data_{time}.jsonl\""
   ]
  },
  {
   "cell_type": "code",
   "execution_count": 45,
   "id": "6038782d",
   "metadata": {},
   "outputs": [],
   "source": [
    "coarr = COARR(\"revw_eval.csv\")"
   ]
  },
  {
   "cell_type": "code",
   "execution_count": null,
   "id": "244d17eb",
   "metadata": {},
   "outputs": [],
   "source": []
  }
 ],
 "metadata": {
  "kernelspec": {
   "display_name": "Python 3",
   "language": "python",
   "name": "python3"
  },
  "language_info": {
   "codemirror_mode": {
    "name": "ipython",
    "version": 3
   },
   "file_extension": ".py",
   "mimetype": "text/x-python",
   "name": "python",
   "nbconvert_exporter": "python",
   "pygments_lexer": "ipython3",
   "version": "3.7.4"
  }
 },
 "nbformat": 4,
 "nbformat_minor": 5
}
