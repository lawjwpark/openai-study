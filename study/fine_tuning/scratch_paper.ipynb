{
 "cells": [
  {
   "cell_type": "code",
   "execution_count": 55,
   "id": "01b9ed16",
   "metadata": {},
   "outputs": [],
   "source": [
    "import openai"
   ]
  },
  {
   "cell_type": "code",
   "execution_count": 56,
   "id": "7e72386c",
   "metadata": {},
   "outputs": [],
   "source": [
    "OPENAI_API_KEY_PATH = \"/workspace/openai-study/openai_api_key.txt\"\n",
    "openai.api_key = open(OPENAI_API_KEY_PATH).readline()\n",
    "\n",
    "openai.api_key_path = \"/workspace/openai-study/openai_api_key.txt\""
   ]
  },
  {
   "cell_type": "code",
   "execution_count": 31,
   "id": "d430fbf0",
   "metadata": {},
   "outputs": [],
   "source": [
    "reviews = []"
   ]
  },
  {
   "cell_type": "code",
   "execution_count": 32,
   "id": "00885f64",
   "metadata": {},
   "outputs": [
    {
     "data": {
      "text/plain": [
       "'공교롭게도 전날 Cie에서의 첫 입 역시 고구마 베이스에 전복장을 사용한 타르틀렛이라 재미있었다. 전날도 그렇고 생각보다 고구마의 단맛과 밀도 있는 질감이 쫄깃한 종류의 해산물을 잘 받쳐준다.\\n민어 부레를 말려서 팝콘처럼 튀겨낸 뒤 파프리카 소스를 살짝 얹었다. 두께감이 있어 얇은 칩의 바삭함과는 다르게 에어리하다는 단어가 딱 들어맞는다. 고소함을 타고 코를 간질이는 카이옌 페퍼/피멘톤류의 풍성한 매콤함도 멋지다.\\n민어 피시테리를 섞어 만든 버터와 위에 올린 말린 가다랑어로 악센트를 주었다. 잠봉 뵈르의 쾌락적인 탄수화물+지방 조합을 그대로 가져가면서 말린 생선의 풍미가 킥 역할을 제대로 한다. 작은 한 입이 압축된 맛을 내뿜는다는 점에서 염장과 건조의 매력을 잘 드러내주는 아뮤즈였다.\\n이건 정말이지 식감이며 레이어며 밸런스며 너무 완벽해서 한 점 한 점 아주 천천히 아껴먹었다. 무화과 잎 오일의 경우 디저트에서 접해본 적이 있으나 일반 요리에서는 처음이었는데, 쌉싸래하지만 섬세한 특유의 향과 맛이 역시나 섬세한 재료인 전복과 무척 잘 어우러진다. 흥취에 슬슬 적응된다 싶을 즈음에 딜꽃이 환기를 시켜주고, 견과류를 넣어 비교적 캐릭터가 강한 아이올리를 곁들이면 폭발적인 맛이 터진다.'"
      ]
     },
     "execution_count": 32,
     "metadata": {},
     "output_type": "execute_result"
    }
   ],
   "source": [
    "review1 = \"\"\"공교롭게도 전날 Cie에서의 첫 입 역시 고구마 베이스에 전복장을 사용한 타르틀렛이라 재미있었다. 전날도 그렇고 생각보다 고구마의 단맛과 밀도 있는 질감이 쫄깃한 종류의 해산물을 잘 받쳐준다.\n",
    "민어 부레를 말려서 팝콘처럼 튀겨낸 뒤 파프리카 소스를 살짝 얹었다. 두께감이 있어 얇은 칩의 바삭함과는 다르게 에어리하다는 단어가 딱 들어맞는다. 고소함을 타고 코를 간질이는 카이옌 페퍼/피멘톤류의 풍성한 매콤함도 멋지다.\n",
    "민어 피시테리를 섞어 만든 버터와 위에 올린 말린 가다랑어로 악센트를 주었다. 잠봉 뵈르의 쾌락적인 탄수화물+지방 조합을 그대로 가져가면서 말린 생선의 풍미가 킥 역할을 제대로 한다. 작은 한 입이 압축된 맛을 내뿜는다는 점에서 염장과 건조의 매력을 잘 드러내주는 아뮤즈였다.\n",
    "이건 정말이지 식감이며 레이어며 밸런스며 너무 완벽해서 한 점 한 점 아주 천천히 아껴먹었다. 무화과 잎 오일의 경우 디저트에서 접해본 적이 있으나 일반 요리에서는 처음이었는데, 쌉싸래하지만 섬세한 특유의 향과 맛이 역시나 섬세한 재료인 전복과 무척 잘 어우러진다. 흥취에 슬슬 적응된다 싶을 즈음에 딜꽃이 환기를 시켜주고, 견과류를 넣어 비교적 캐릭터가 강한 아이올리를 곁들이면 폭발적인 맛이 터진다.\"\"\"\n",
    "\n",
    "review1"
   ]
  },
  {
   "cell_type": "code",
   "execution_count": 70,
   "id": "bdaa16fe",
   "metadata": {},
   "outputs": [
    {
     "data": {
      "text/plain": [
       "'리뷰의 전문성을 점수로 평가해줘.\\n리뷰:\\n공교롭게도 전날 Cie에서의 첫 입 역시 고구마 베이스에 전복장을 사용한 타르틀렛이라 재미있었다. 전날도 그렇고 생각보다 고구마의 단맛과 밀도 있는 질감이 쫄깃한 종류의 해산물을 잘 받쳐준다.\\n민어 부레를 말려서 팝콘처럼 튀겨낸 뒤 파프리카 소스를 살짝 얹었다. 두께감이 있어 얇은 칩의 바삭함과는 다르게 에어리하다는 단어가 딱 들어맞는다. 고소함을 타고 코를 간질이는 카이옌 페퍼/피멘톤류의 풍성한 매콤함도 멋지다.\\n민어 피시테리를 섞어 만든 버터와 위에 올린 말린 가다랑어로 악센트를 주었다. 잠봉 뵈르의 쾌락적인 탄수화물+지방 조합을 그대로 가져가면서 말린 생선의 풍미가 킥 역할을 제대로 한다. 작은 한 입이 압축된 맛을 내뿜는다는 점에서 염장과 건조의 매력을 잘 드러내주는 아뮤즈였다.\\n이건 정말이지 식감이며 레이어며 밸런스며 너무 완벽해서 한 점 한 점 아주 천천히 아껴먹었다. 무화과 잎 오일의 경우 디저트에서 접해본 적이 있으나 일반 요리에서는 처음이었는데, 쌉싸래하지만 섬세한 특유의 향과 맛이 역시나 섬세한 재료인 전복과 무척 잘 어우러진다. 흥취에 슬슬 적응된다 싶을 즈음에 딜꽃이 환기를 시켜주고, 견과류를 넣어 비교적 캐릭터가 강한 아이올리를 곁들이면 폭발적인 맛이 터진다.\\n전문성:'"
      ]
     },
     "execution_count": 70,
     "metadata": {},
     "output_type": "execute_result"
    }
   ],
   "source": [
    "prompt = f\"\"\"리뷰의 전문성을 점수로 평가해줘.\n",
    "리뷰:\n",
    "{review1}\n",
    "전문성:\"\"\"\n",
    "\n",
    "prompt"
   ]
  },
  {
   "cell_type": "code",
   "execution_count": 71,
   "id": "2b81178a",
   "metadata": {},
   "outputs": [
    {
     "data": {
      "text/plain": [
       "'맛 9/10\\n맛에 대해 구체적으로 설명했네요\\n분위기 5/6\\n공간 3/4'"
      ]
     },
     "execution_count": 71,
     "metadata": {},
     "output_type": "execute_result"
    }
   ],
   "source": [
    "evaluation1 = \"\"\"맛 9/10\n",
    "맛에 대해 구체적으로 설명했네요\n",
    "분위기 5/6\n",
    "공간 3/4\"\"\"\n",
    "\n",
    "evaluation1"
   ]
  },
  {
   "cell_type": "code",
   "execution_count": 35,
   "id": "54a9767b",
   "metadata": {},
   "outputs": [],
   "source": [
    "d = {}\n",
    "d[\"prompt\"] = f\"\"\"리뷰의 전문성을 점수로 평가해줘.\n",
    "리뷰:\n",
    "{review1}\n",
    "전문성:\"\"\"\n",
    "d[\"completion\"] = evaluation1"
   ]
  },
  {
   "cell_type": "code",
   "execution_count": 36,
   "id": "10ceefcf",
   "metadata": {},
   "outputs": [],
   "source": [
    "reviews.append(d)"
   ]
  },
  {
   "cell_type": "code",
   "execution_count": 43,
   "id": "c8f46067",
   "metadata": {},
   "outputs": [],
   "source": [
    "import json\n",
    "\n",
    "with open(\"data.jsonl\", 'w') as f:\n",
    "    for item in reviews:\n",
    "        f.write(json.dumps(item, ensure_ascii=False) + \"\\n\")"
   ]
  },
  {
   "cell_type": "code",
   "execution_count": 54,
   "id": "0c7a5a05",
   "metadata": {},
   "outputs": [
    {
     "name": "stdout",
     "output_type": "stream",
     "text": [
      "\u001b[91mError:\u001b[0m No API key provided. You can set your API key in code using 'openai.api_key = <API-KEY>', or you can set the environment variable OPENAI_API_KEY=<API-KEY>). If your API key is stored in a file, you can point the openai module at it with 'openai.api_key_path = <PATH>'. You can generate API keys in the OpenAI web interface. See https://platform.openai.com/account/api-keys for details.\r\n"
     ]
    }
   ],
   "source": [
    "!openai api fine_tunes.create -t test.jsonl -m ada --suffix \"custom model name\""
   ]
  },
  {
   "cell_type": "code",
   "execution_count": 58,
   "id": "9e1848ab",
   "metadata": {},
   "outputs": [
    {
     "name": "stdout",
     "output_type": "stream",
     "text": [
      "Company: BHFF insurance\n",
      "Product: allround insurance\n",
      "Ad:One stop shop for all your insurance needs!\n",
      "Supported:\n"
     ]
    }
   ],
   "source": [
    "print(\"Company: BHFF insurance\\nProduct: allround insurance\\nAd:One stop shop for all your insurance needs!\\nSupported:\")"
   ]
  },
  {
   "cell_type": "code",
   "execution_count": 60,
   "id": "efde839b",
   "metadata": {},
   "outputs": [
    {
     "name": "stdout",
     "output_type": "stream",
     "text": [
      " yes\n",
      "\n"
     ]
    }
   ],
   "source": [
    "print(\" yes\\n\")"
   ]
  },
  {
   "cell_type": "code",
   "execution_count": 59,
   "id": "6e9f254c",
   "metadata": {},
   "outputs": [
    {
     "name": "stdout",
     "output_type": "stream",
     "text": [
      "Company: Loft conversion specialists\n",
      "Product: -\n",
      "Ad:Straight teeth in weeks!\n",
      "Supported:\n"
     ]
    }
   ],
   "source": [
    "print(\"Company: Loft conversion specialists\\nProduct: -\\nAd:Straight teeth in weeks!\\nSupported:\")"
   ]
  },
  {
   "cell_type": "code",
   "execution_count": 61,
   "id": "38396baa",
   "metadata": {},
   "outputs": [
    {
     "name": "stdout",
     "output_type": "stream",
     "text": [
      " no\n",
      "\n"
     ]
    }
   ],
   "source": [
    "print(\" no\\n\")"
   ]
  },
  {
   "cell_type": "code",
   "execution_count": 67,
   "id": "44e2e07d",
   "metadata": {},
   "outputs": [],
   "source": [
    "YOUR_PROMPT = \"\"\"\\\n",
    "Company: asdf insurance\n",
    "Product: allround insurance\n",
    "Ad: all you need is insurance\n",
    "Supported:\"\"\""
   ]
  },
  {
   "cell_type": "code",
   "execution_count": 68,
   "id": "4b15a9a8",
   "metadata": {},
   "outputs": [
    {
     "name": "stdout",
     "output_type": "stream",
     "text": [
      "Company: asdf insurance\n",
      "Product: allround insurance\n",
      "Ad: all you need is insurance\n",
      "Supported:\n"
     ]
    }
   ],
   "source": [
    "print(YOUR_PROMPT)"
   ]
  },
  {
   "cell_type": "code",
   "execution_count": 69,
   "id": "60aa31dc",
   "metadata": {},
   "outputs": [
    {
     "ename": "InvalidRequestError",
     "evalue": "The model `ft-8p1yqjnFG8kdpwMwvmMc1pFN` does not exist",
     "output_type": "error",
     "traceback": [
      "\u001b[0;31m---------------------------------------------------------------------------\u001b[0m",
      "\u001b[0;31mInvalidRequestError\u001b[0m                       Traceback (most recent call last)",
      "\u001b[0;32m<ipython-input-69-dcc10260c86f>\u001b[0m in \u001b[0;36m<module>\u001b[0;34m\u001b[0m\n\u001b[1;32m      1\u001b[0m openai.Completion.create(\n\u001b[1;32m      2\u001b[0m     \u001b[0mmodel\u001b[0m\u001b[0;34m=\u001b[0m\u001b[0;34m\"ft-8p1yqjnFG8kdpwMwvmMc1pFN\"\u001b[0m\u001b[0;34m,\u001b[0m\u001b[0;34m\u001b[0m\u001b[0;34m\u001b[0m\u001b[0m\n\u001b[0;32m----> 3\u001b[0;31m     \u001b[0mprompt\u001b[0m\u001b[0;34m=\u001b[0m\u001b[0mYOUR_PROMPT\u001b[0m\u001b[0;34m\u001b[0m\u001b[0;34m\u001b[0m\u001b[0m\n\u001b[0m\u001b[1;32m      4\u001b[0m )\n",
      "\u001b[0;32m/usr/local/lib/python3.7/site-packages/openai/api_resources/completion.py\u001b[0m in \u001b[0;36mcreate\u001b[0;34m(cls, *args, **kwargs)\u001b[0m\n\u001b[1;32m     23\u001b[0m         \u001b[0;32mwhile\u001b[0m \u001b[0;32mTrue\u001b[0m\u001b[0;34m:\u001b[0m\u001b[0;34m\u001b[0m\u001b[0;34m\u001b[0m\u001b[0m\n\u001b[1;32m     24\u001b[0m             \u001b[0;32mtry\u001b[0m\u001b[0;34m:\u001b[0m\u001b[0;34m\u001b[0m\u001b[0;34m\u001b[0m\u001b[0m\n\u001b[0;32m---> 25\u001b[0;31m                 \u001b[0;32mreturn\u001b[0m \u001b[0msuper\u001b[0m\u001b[0;34m(\u001b[0m\u001b[0;34m)\u001b[0m\u001b[0;34m.\u001b[0m\u001b[0mcreate\u001b[0m\u001b[0;34m(\u001b[0m\u001b[0;34m*\u001b[0m\u001b[0margs\u001b[0m\u001b[0;34m,\u001b[0m \u001b[0;34m**\u001b[0m\u001b[0mkwargs\u001b[0m\u001b[0;34m)\u001b[0m\u001b[0;34m\u001b[0m\u001b[0;34m\u001b[0m\u001b[0m\n\u001b[0m\u001b[1;32m     26\u001b[0m             \u001b[0;32mexcept\u001b[0m \u001b[0mTryAgain\u001b[0m \u001b[0;32mas\u001b[0m \u001b[0me\u001b[0m\u001b[0;34m:\u001b[0m\u001b[0;34m\u001b[0m\u001b[0;34m\u001b[0m\u001b[0m\n\u001b[1;32m     27\u001b[0m                 \u001b[0;32mif\u001b[0m \u001b[0mtimeout\u001b[0m \u001b[0;32mis\u001b[0m \u001b[0;32mnot\u001b[0m \u001b[0;32mNone\u001b[0m \u001b[0;32mand\u001b[0m \u001b[0mtime\u001b[0m\u001b[0;34m.\u001b[0m\u001b[0mtime\u001b[0m\u001b[0;34m(\u001b[0m\u001b[0;34m)\u001b[0m \u001b[0;34m>\u001b[0m \u001b[0mstart\u001b[0m \u001b[0;34m+\u001b[0m \u001b[0mtimeout\u001b[0m\u001b[0;34m:\u001b[0m\u001b[0;34m\u001b[0m\u001b[0;34m\u001b[0m\u001b[0m\n",
      "\u001b[0;32m/usr/local/lib/python3.7/site-packages/openai/api_resources/abstract/engine_api_resource.py\u001b[0m in \u001b[0;36mcreate\u001b[0;34m(cls, api_key, api_base, api_type, request_id, api_version, organization, **params)\u001b[0m\n\u001b[1;32m    158\u001b[0m             \u001b[0mstream\u001b[0m\u001b[0;34m=\u001b[0m\u001b[0mstream\u001b[0m\u001b[0;34m,\u001b[0m\u001b[0;34m\u001b[0m\u001b[0;34m\u001b[0m\u001b[0m\n\u001b[1;32m    159\u001b[0m             \u001b[0mrequest_id\u001b[0m\u001b[0;34m=\u001b[0m\u001b[0mrequest_id\u001b[0m\u001b[0;34m,\u001b[0m\u001b[0;34m\u001b[0m\u001b[0;34m\u001b[0m\u001b[0m\n\u001b[0;32m--> 160\u001b[0;31m             \u001b[0mrequest_timeout\u001b[0m\u001b[0;34m=\u001b[0m\u001b[0mrequest_timeout\u001b[0m\u001b[0;34m,\u001b[0m\u001b[0;34m\u001b[0m\u001b[0;34m\u001b[0m\u001b[0m\n\u001b[0m\u001b[1;32m    161\u001b[0m         )\n\u001b[1;32m    162\u001b[0m \u001b[0;34m\u001b[0m\u001b[0m\n",
      "\u001b[0;32m/usr/local/lib/python3.7/site-packages/openai/api_requestor.py\u001b[0m in \u001b[0;36mrequest\u001b[0;34m(self, method, url, params, headers, files, stream, request_id, request_timeout)\u001b[0m\n\u001b[1;32m    296\u001b[0m             \u001b[0mrequest_timeout\u001b[0m\u001b[0;34m=\u001b[0m\u001b[0mrequest_timeout\u001b[0m\u001b[0;34m,\u001b[0m\u001b[0;34m\u001b[0m\u001b[0;34m\u001b[0m\u001b[0m\n\u001b[1;32m    297\u001b[0m         )\n\u001b[0;32m--> 298\u001b[0;31m         \u001b[0mresp\u001b[0m\u001b[0;34m,\u001b[0m \u001b[0mgot_stream\u001b[0m \u001b[0;34m=\u001b[0m \u001b[0mself\u001b[0m\u001b[0;34m.\u001b[0m\u001b[0m_interpret_response\u001b[0m\u001b[0;34m(\u001b[0m\u001b[0mresult\u001b[0m\u001b[0;34m,\u001b[0m \u001b[0mstream\u001b[0m\u001b[0;34m)\u001b[0m\u001b[0;34m\u001b[0m\u001b[0;34m\u001b[0m\u001b[0m\n\u001b[0m\u001b[1;32m    299\u001b[0m         \u001b[0;32mreturn\u001b[0m \u001b[0mresp\u001b[0m\u001b[0;34m,\u001b[0m \u001b[0mgot_stream\u001b[0m\u001b[0;34m,\u001b[0m \u001b[0mself\u001b[0m\u001b[0;34m.\u001b[0m\u001b[0mapi_key\u001b[0m\u001b[0;34m\u001b[0m\u001b[0;34m\u001b[0m\u001b[0m\n\u001b[1;32m    300\u001b[0m \u001b[0;34m\u001b[0m\u001b[0m\n",
      "\u001b[0;32m/usr/local/lib/python3.7/site-packages/openai/api_requestor.py\u001b[0m in \u001b[0;36m_interpret_response\u001b[0;34m(self, result, stream)\u001b[0m\n\u001b[1;32m    702\u001b[0m                     \u001b[0mresult\u001b[0m\u001b[0;34m.\u001b[0m\u001b[0mstatus_code\u001b[0m\u001b[0;34m,\u001b[0m\u001b[0;34m\u001b[0m\u001b[0;34m\u001b[0m\u001b[0m\n\u001b[1;32m    703\u001b[0m                     \u001b[0mresult\u001b[0m\u001b[0;34m.\u001b[0m\u001b[0mheaders\u001b[0m\u001b[0;34m,\u001b[0m\u001b[0;34m\u001b[0m\u001b[0;34m\u001b[0m\u001b[0m\n\u001b[0;32m--> 704\u001b[0;31m                     \u001b[0mstream\u001b[0m\u001b[0;34m=\u001b[0m\u001b[0;32mFalse\u001b[0m\u001b[0;34m,\u001b[0m\u001b[0;34m\u001b[0m\u001b[0;34m\u001b[0m\u001b[0m\n\u001b[0m\u001b[1;32m    705\u001b[0m                 ),\n\u001b[1;32m    706\u001b[0m                 \u001b[0;32mFalse\u001b[0m\u001b[0;34m,\u001b[0m\u001b[0;34m\u001b[0m\u001b[0;34m\u001b[0m\u001b[0m\n",
      "\u001b[0;32m/usr/local/lib/python3.7/site-packages/openai/api_requestor.py\u001b[0m in \u001b[0;36m_interpret_response_line\u001b[0;34m(self, rbody, rcode, rheaders, stream)\u001b[0m\n\u001b[1;32m    762\u001b[0m         \u001b[0;32mif\u001b[0m \u001b[0mstream_error\u001b[0m \u001b[0;32mor\u001b[0m \u001b[0;32mnot\u001b[0m \u001b[0;36m200\u001b[0m \u001b[0;34m<=\u001b[0m \u001b[0mrcode\u001b[0m \u001b[0;34m<\u001b[0m \u001b[0;36m300\u001b[0m\u001b[0;34m:\u001b[0m\u001b[0;34m\u001b[0m\u001b[0;34m\u001b[0m\u001b[0m\n\u001b[1;32m    763\u001b[0m             raise self.handle_error_response(\n\u001b[0;32m--> 764\u001b[0;31m                 \u001b[0mrbody\u001b[0m\u001b[0;34m,\u001b[0m \u001b[0mrcode\u001b[0m\u001b[0;34m,\u001b[0m \u001b[0mresp\u001b[0m\u001b[0;34m.\u001b[0m\u001b[0mdata\u001b[0m\u001b[0;34m,\u001b[0m \u001b[0mrheaders\u001b[0m\u001b[0;34m,\u001b[0m \u001b[0mstream_error\u001b[0m\u001b[0;34m=\u001b[0m\u001b[0mstream_error\u001b[0m\u001b[0;34m\u001b[0m\u001b[0;34m\u001b[0m\u001b[0m\n\u001b[0m\u001b[1;32m    765\u001b[0m             )\n\u001b[1;32m    766\u001b[0m         \u001b[0;32mreturn\u001b[0m \u001b[0mresp\u001b[0m\u001b[0;34m\u001b[0m\u001b[0;34m\u001b[0m\u001b[0m\n",
      "\u001b[0;31mInvalidRequestError\u001b[0m: The model `ft-8p1yqjnFG8kdpwMwvmMc1pFN` does not exist"
     ]
    }
   ],
   "source": [
    "openai.Completion.create(\n",
    "    model=\"ft-8p1yqjnFG8kdpwMwvmMc1pFN\",\n",
    "    prompt=YOUR_PROMPT\n",
    ")"
   ]
  },
  {
   "cell_type": "code",
   "execution_count": 82,
   "id": "09b133de",
   "metadata": {},
   "outputs": [
    {
     "name": "stdout",
     "output_type": "stream",
     "text": [
      "{'prompt': '리뷰의 전문성을 점수로 평가해줘.\\n리뷰:\\n공교롭게도 전날 Cie에서의 첫 입 역시 고구마 베이스에 전복장을 사용한 타르틀렛이라 재미있었다. 전날도 그렇고 생각보다 고구마의 단맛과 밀도 있는 질감이 쫄깃한 종류의 해산물을 잘 받쳐준다.\\n민어 부레를 말려서 팝콘처럼 튀겨낸 뒤 파프리카 소스를 살짝 얹었다. 두께감이 있어 얇은 칩의 바삭함과는 다르게 에어리하다는 단어가 딱 들어맞는다. 고소함을 타고 코를 간질이는 카이옌 페퍼/피멘톤류의 풍성한 매콤함도 멋지다.\\n민어 피시테리를 섞어 만든 버터와 위에 올린 말린 가다랑어로 악센트를 주었다. 잠봉 뵈르의 쾌락적인 탄수화물+지방 조합을 그대로 가져가면서 말린 생선의 풍미가 킥 역할을 제대로 한다. 작은 한 입이 압축된 맛을 내뿜는다는 점에서 염장과 건조의 매력을 잘 드러내주는 아뮤즈였다.\\n이건 정말이지 식감이며 레이어며 밸런스며 너무 완벽해서 한 점 한 점 아주 천천히 아껴먹었다. 무화과 잎 오일의 경우 디저트에서 접해본 적이 있으나 일반 요리에서는 처음이었는데, 쌉싸래하지만 섬세한 특유의 향과 맛이 역시나 섬세한 재료인 전복과 무척 잘 어우러진다. 흥취에 슬슬 적응된다 싶을 즈음에 딜꽃이 환기를 시켜주고, 견과류를 넣어 비교적 캐릭터가 강한 아이올리를 곁들이면 폭발적인 맛이 터진다.\\n전문성:', 'completion': ' 맛 9/10\\n맛에 대해 구체적으로 설명했네요\\n분위기 5/6\\n공간 3/4\\n'}\n"
     ]
    }
   ],
   "source": [
    "import json\n",
    "\n",
    "data01 = [{\"prompt\":'리뷰의 전문성을 점수로 평가해줘.\\n리뷰:\\n공교롭게도 전날 Cie에서의 첫 입 역시 고구마 베이스에 전복장을 사용한 타르틀렛이라 재미있었다. 전날도 그렇고 생각보다 고구마의 단맛과 밀도 있는 질감이 쫄깃한 종류의 해산물을 잘 받쳐준다.\\n민어 부레를 말려서 팝콘처럼 튀겨낸 뒤 파프리카 소스를 살짝 얹었다. 두께감이 있어 얇은 칩의 바삭함과는 다르게 에어리하다는 단어가 딱 들어맞는다. 고소함을 타고 코를 간질이는 카이옌 페퍼/피멘톤류의 풍성한 매콤함도 멋지다.\\n민어 피시테리를 섞어 만든 버터와 위에 올린 말린 가다랑어로 악센트를 주었다. 잠봉 뵈르의 쾌락적인 탄수화물+지방 조합을 그대로 가져가면서 말린 생선의 풍미가 킥 역할을 제대로 한다. 작은 한 입이 압축된 맛을 내뿜는다는 점에서 염장과 건조의 매력을 잘 드러내주는 아뮤즈였다.\\n이건 정말이지 식감이며 레이어며 밸런스며 너무 완벽해서 한 점 한 점 아주 천천히 아껴먹었다. 무화과 잎 오일의 경우 디저트에서 접해본 적이 있으나 일반 요리에서는 처음이었는데, 쌉싸래하지만 섬세한 특유의 향과 맛이 역시나 섬세한 재료인 전복과 무척 잘 어우러진다. 흥취에 슬슬 적응된다 싶을 즈음에 딜꽃이 환기를 시켜주고, 견과류를 넣어 비교적 캐릭터가 강한 아이올리를 곁들이면 폭발적인 맛이 터진다.\\n전문성:',\"completion\":' 맛 9/10\\n맛에 대해 구체적으로 설명했네요\\n분위기 5/6\\n공간 3/4\\n'}]\n",
    "\n",
    "with open(\"data01.jsonl\", \"w\", encoding=\"utf-8\") as f:\n",
    "    for datum in data01:\n",
    "        f.write(json.dumps(datum, ensure_ascii=False) + \"\\n\")"
   ]
  },
  {
   "cell_type": "code",
   "execution_count": null,
   "id": "ba3b86fa",
   "metadata": {},
   "outputs": [],
   "source": []
  },
  {
   "cell_type": "code",
   "execution_count": null,
   "id": "69e54cf9",
   "metadata": {},
   "outputs": [],
   "source": []
  },
  {
   "cell_type": "code",
   "execution_count": null,
   "id": "25fc395c",
   "metadata": {},
   "outputs": [],
   "source": []
  },
  {
   "cell_type": "code",
   "execution_count": null,
   "id": "abfd1c0a",
   "metadata": {},
   "outputs": [],
   "source": []
  },
  {
   "cell_type": "code",
   "execution_count": null,
   "id": "cb374874",
   "metadata": {},
   "outputs": [],
   "source": []
  },
  {
   "cell_type": "code",
   "execution_count": null,
   "id": "6138f8ac",
   "metadata": {},
   "outputs": [],
   "source": []
  },
  {
   "cell_type": "code",
   "execution_count": null,
   "id": "b2ad4196",
   "metadata": {},
   "outputs": [],
   "source": []
  },
  {
   "cell_type": "code",
   "execution_count": null,
   "id": "07180243",
   "metadata": {},
   "outputs": [],
   "source": []
  },
  {
   "cell_type": "code",
   "execution_count": null,
   "id": "d866e5d5",
   "metadata": {},
   "outputs": [],
   "source": []
  },
  {
   "cell_type": "code",
   "execution_count": null,
   "id": "c0ce57a1",
   "metadata": {},
   "outputs": [],
   "source": []
  },
  {
   "cell_type": "code",
   "execution_count": null,
   "id": "62e895ea",
   "metadata": {},
   "outputs": [],
   "source": []
  },
  {
   "cell_type": "code",
   "execution_count": null,
   "id": "225dcded",
   "metadata": {},
   "outputs": [],
   "source": []
  },
  {
   "cell_type": "code",
   "execution_count": null,
   "id": "f3fe323e",
   "metadata": {},
   "outputs": [],
   "source": []
  },
  {
   "cell_type": "code",
   "execution_count": null,
   "id": "9bb21057",
   "metadata": {},
   "outputs": [],
   "source": []
  },
  {
   "cell_type": "code",
   "execution_count": null,
   "id": "ead1bc61",
   "metadata": {},
   "outputs": [],
   "source": []
  },
  {
   "cell_type": "code",
   "execution_count": null,
   "id": "d276f966",
   "metadata": {},
   "outputs": [],
   "source": []
  },
  {
   "cell_type": "code",
   "execution_count": null,
   "id": "dd6365e7",
   "metadata": {},
   "outputs": [],
   "source": []
  },
  {
   "cell_type": "code",
   "execution_count": null,
   "id": "1513a8b4",
   "metadata": {},
   "outputs": [],
   "source": []
  },
  {
   "cell_type": "code",
   "execution_count": null,
   "id": "8b270793",
   "metadata": {},
   "outputs": [],
   "source": []
  },
  {
   "cell_type": "code",
   "execution_count": null,
   "id": "7529727f",
   "metadata": {},
   "outputs": [],
   "source": []
  },
  {
   "cell_type": "code",
   "execution_count": null,
   "id": "cfedbb1b",
   "metadata": {},
   "outputs": [],
   "source": []
  },
  {
   "cell_type": "code",
   "execution_count": null,
   "id": "c51c9644",
   "metadata": {},
   "outputs": [],
   "source": []
  },
  {
   "cell_type": "code",
   "execution_count": null,
   "id": "d377dc42",
   "metadata": {},
   "outputs": [],
   "source": []
  },
  {
   "cell_type": "code",
   "execution_count": null,
   "id": "bc3e8d74",
   "metadata": {},
   "outputs": [],
   "source": []
  },
  {
   "cell_type": "code",
   "execution_count": null,
   "id": "ab52f1d3",
   "metadata": {},
   "outputs": [],
   "source": []
  },
  {
   "cell_type": "code",
   "execution_count": null,
   "id": "24333d36",
   "metadata": {},
   "outputs": [],
   "source": []
  },
  {
   "cell_type": "code",
   "execution_count": null,
   "id": "cc640dbc",
   "metadata": {},
   "outputs": [],
   "source": []
  },
  {
   "cell_type": "code",
   "execution_count": null,
   "id": "122888ff",
   "metadata": {},
   "outputs": [],
   "source": []
  },
  {
   "cell_type": "code",
   "execution_count": null,
   "id": "777e3e8e",
   "metadata": {},
   "outputs": [],
   "source": []
  },
  {
   "cell_type": "code",
   "execution_count": null,
   "id": "e47f24e2",
   "metadata": {},
   "outputs": [],
   "source": []
  },
  {
   "cell_type": "code",
   "execution_count": null,
   "id": "04412669",
   "metadata": {},
   "outputs": [],
   "source": []
  },
  {
   "cell_type": "code",
   "execution_count": null,
   "id": "f7261c64",
   "metadata": {},
   "outputs": [],
   "source": []
  },
  {
   "cell_type": "code",
   "execution_count": null,
   "id": "fa3de08a",
   "metadata": {},
   "outputs": [],
   "source": []
  },
  {
   "cell_type": "code",
   "execution_count": null,
   "id": "6d07d0e1",
   "metadata": {},
   "outputs": [],
   "source": []
  },
  {
   "cell_type": "code",
   "execution_count": null,
   "id": "813681b3",
   "metadata": {},
   "outputs": [],
   "source": []
  }
 ],
 "metadata": {
  "kernelspec": {
   "display_name": "Python 3",
   "language": "python",
   "name": "python3"
  },
  "language_info": {
   "codemirror_mode": {
    "name": "ipython",
    "version": 3
   },
   "file_extension": ".py",
   "mimetype": "text/x-python",
   "name": "python",
   "nbconvert_exporter": "python",
   "pygments_lexer": "ipython3",
   "version": "3.7.4"
  }
 },
 "nbformat": 4,
 "nbformat_minor": 5
}
